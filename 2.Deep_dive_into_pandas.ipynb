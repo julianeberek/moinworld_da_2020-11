{
 "cells": [
  {
   "cell_type": "markdown",
   "metadata": {
    "slideshow": {
     "slide_type": "slide"
    }
   },
   "source": [
    "# Deeper dive into pandas"
   ]
  },
  {
   "cell_type": "markdown",
   "metadata": {
    "slideshow": {
     "slide_type": "fragment"
    }
   },
   "source": [
    "### Data & file types\n",
    "- **text**: .txt, .csv, .doc, .odt ...\n",
    "- **numbers**: .csv, xlsx ...\n",
    "- **images**: .png, .tiff, .jpeg ...\n",
    "- **sound**: .mp3, .ogg, .wav ... \n",
    "- **video**: .mp4, .mpeg, .avi,  ...  \n",
    "etc..."
   ]
  },
  {
   "cell_type": "markdown",
   "metadata": {
    "slideshow": {
     "slide_type": "subslide"
    }
   },
   "source": [
    "Possible sources: \n",
    "- database\n",
    "- files\n",
    "- scrapping data from web pagess\n",
    "- downloading data from api eg. twitter, spotify\n",
    "- geographical data\n",
    "- sensors\n",
    "- scientific equipment    \n",
    "etc.. "
   ]
  },
  {
   "cell_type": "markdown",
   "metadata": {
    "slideshow": {
     "slide_type": "subslide"
    }
   },
   "source": [
    "## Data import"
   ]
  },
  {
   "cell_type": "code",
   "execution_count": 1,
   "metadata": {
    "slideshow": {
     "slide_type": "fragment"
    }
   },
   "outputs": [],
   "source": [
    "import pandas as pd"
   ]
  },
  {
   "cell_type": "markdown",
   "metadata": {
    "slideshow": {
     "slide_type": "fragment"
    }
   },
   "source": [
    "other functions for importing in pandas:  \n",
    "https://pandas.pydata.org/docs/search.html?q=read_"
   ]
  },
  {
   "cell_type": "code",
   "execution_count": 2,
   "metadata": {
    "slideshow": {
     "slide_type": "fragment"
    }
   },
   "outputs": [],
   "source": [
    "df = pd.read_csv('data/time_series_covid19_confirmed_US.csv')"
   ]
  },
  {
   "cell_type": "markdown",
   "metadata": {
    "slideshow": {
     "slide_type": "fragment"
    }
   },
   "source": [
    "#### pd.read_csv()\n",
    "https://pandas.pydata.org/pandas-docs/stable/reference/api/pandas.read_csv.html"
   ]
  },
  {
   "cell_type": "markdown",
   "metadata": {
    "slideshow": {
     "slide_type": "slide"
    }
   },
   "source": [
    "### Data exploration"
   ]
  },
  {
   "cell_type": "code",
   "execution_count": 3,
   "metadata": {
    "slideshow": {
     "slide_type": "subslide"
    }
   },
   "outputs": [
    {
     "data": {
      "text/html": [
       "<div>\n",
       "<style scoped>\n",
       "    .dataframe tbody tr th:only-of-type {\n",
       "        vertical-align: middle;\n",
       "    }\n",
       "\n",
       "    .dataframe tbody tr th {\n",
       "        vertical-align: top;\n",
       "    }\n",
       "\n",
       "    .dataframe thead th {\n",
       "        text-align: right;\n",
       "    }\n",
       "</style>\n",
       "<table border=\"1\" class=\"dataframe\">\n",
       "  <thead>\n",
       "    <tr style=\"text-align: right;\">\n",
       "      <th></th>\n",
       "      <th>UID</th>\n",
       "      <th>iso2</th>\n",
       "      <th>iso3</th>\n",
       "      <th>code3</th>\n",
       "      <th>FIPS</th>\n",
       "      <th>Admin2</th>\n",
       "      <th>Province_State</th>\n",
       "      <th>Country_Region</th>\n",
       "      <th>Lat</th>\n",
       "      <th>Long_</th>\n",
       "      <th>...</th>\n",
       "      <th>11/16/20</th>\n",
       "      <th>11/17/20</th>\n",
       "      <th>11/18/20</th>\n",
       "      <th>11/19/20</th>\n",
       "      <th>11/20/20</th>\n",
       "      <th>11/21/20</th>\n",
       "      <th>11/22/20</th>\n",
       "      <th>11/23/20</th>\n",
       "      <th>11/24/20</th>\n",
       "      <th>11/25/20</th>\n",
       "    </tr>\n",
       "  </thead>\n",
       "  <tbody>\n",
       "    <tr>\n",
       "      <th>0</th>\n",
       "      <td>84001001</td>\n",
       "      <td>US</td>\n",
       "      <td>USA</td>\n",
       "      <td>840</td>\n",
       "      <td>1001.0</td>\n",
       "      <td>Autauga</td>\n",
       "      <td>Alabama</td>\n",
       "      <td>US</td>\n",
       "      <td>32.539527</td>\n",
       "      <td>-86.644082</td>\n",
       "      <td>...</td>\n",
       "      <td>2481</td>\n",
       "      <td>2506</td>\n",
       "      <td>2529</td>\n",
       "      <td>2554</td>\n",
       "      <td>2580</td>\n",
       "      <td>2597</td>\n",
       "      <td>2617</td>\n",
       "      <td>2634</td>\n",
       "      <td>2661</td>\n",
       "      <td>2686</td>\n",
       "    </tr>\n",
       "    <tr>\n",
       "      <th>1</th>\n",
       "      <td>84001003</td>\n",
       "      <td>US</td>\n",
       "      <td>USA</td>\n",
       "      <td>840</td>\n",
       "      <td>1003.0</td>\n",
       "      <td>Baldwin</td>\n",
       "      <td>Alabama</td>\n",
       "      <td>US</td>\n",
       "      <td>30.727750</td>\n",
       "      <td>-87.722071</td>\n",
       "      <td>...</td>\n",
       "      <td>7696</td>\n",
       "      <td>7772</td>\n",
       "      <td>7849</td>\n",
       "      <td>7933</td>\n",
       "      <td>8038</td>\n",
       "      <td>8131</td>\n",
       "      <td>8199</td>\n",
       "      <td>8269</td>\n",
       "      <td>8376</td>\n",
       "      <td>8473</td>\n",
       "    </tr>\n",
       "    <tr>\n",
       "      <th>2</th>\n",
       "      <td>84001005</td>\n",
       "      <td>US</td>\n",
       "      <td>USA</td>\n",
       "      <td>840</td>\n",
       "      <td>1005.0</td>\n",
       "      <td>Barbour</td>\n",
       "      <td>Alabama</td>\n",
       "      <td>US</td>\n",
       "      <td>31.868263</td>\n",
       "      <td>-85.387129</td>\n",
       "      <td>...</td>\n",
       "      <td>1130</td>\n",
       "      <td>1134</td>\n",
       "      <td>1137</td>\n",
       "      <td>1145</td>\n",
       "      <td>1151</td>\n",
       "      <td>1157</td>\n",
       "      <td>1160</td>\n",
       "      <td>1161</td>\n",
       "      <td>1167</td>\n",
       "      <td>1170</td>\n",
       "    </tr>\n",
       "    <tr>\n",
       "      <th>3</th>\n",
       "      <td>84001007</td>\n",
       "      <td>US</td>\n",
       "      <td>USA</td>\n",
       "      <td>840</td>\n",
       "      <td>1007.0</td>\n",
       "      <td>Bibb</td>\n",
       "      <td>Alabama</td>\n",
       "      <td>US</td>\n",
       "      <td>32.996421</td>\n",
       "      <td>-87.125115</td>\n",
       "      <td>...</td>\n",
       "      <td>993</td>\n",
       "      <td>1004</td>\n",
       "      <td>1008</td>\n",
       "      <td>1011</td>\n",
       "      <td>1024</td>\n",
       "      <td>1036</td>\n",
       "      <td>1136</td>\n",
       "      <td>1142</td>\n",
       "      <td>1157</td>\n",
       "      <td>1162</td>\n",
       "    </tr>\n",
       "    <tr>\n",
       "      <th>4</th>\n",
       "      <td>84001009</td>\n",
       "      <td>US</td>\n",
       "      <td>USA</td>\n",
       "      <td>840</td>\n",
       "      <td>1009.0</td>\n",
       "      <td>Blount</td>\n",
       "      <td>Alabama</td>\n",
       "      <td>US</td>\n",
       "      <td>33.982109</td>\n",
       "      <td>-86.567906</td>\n",
       "      <td>...</td>\n",
       "      <td>2574</td>\n",
       "      <td>2594</td>\n",
       "      <td>2648</td>\n",
       "      <td>2683</td>\n",
       "      <td>2704</td>\n",
       "      <td>2735</td>\n",
       "      <td>2754</td>\n",
       "      <td>2763</td>\n",
       "      <td>2822</td>\n",
       "      <td>2855</td>\n",
       "    </tr>\n",
       "  </tbody>\n",
       "</table>\n",
       "<p>5 rows × 320 columns</p>\n",
       "</div>"
      ],
      "text/plain": [
       "        UID iso2 iso3  code3    FIPS   Admin2 Province_State Country_Region  \\\n",
       "0  84001001   US  USA    840  1001.0  Autauga        Alabama             US   \n",
       "1  84001003   US  USA    840  1003.0  Baldwin        Alabama             US   \n",
       "2  84001005   US  USA    840  1005.0  Barbour        Alabama             US   \n",
       "3  84001007   US  USA    840  1007.0     Bibb        Alabama             US   \n",
       "4  84001009   US  USA    840  1009.0   Blount        Alabama             US   \n",
       "\n",
       "         Lat      Long_  ... 11/16/20  11/17/20  11/18/20  11/19/20  11/20/20  \\\n",
       "0  32.539527 -86.644082  ...     2481      2506      2529      2554      2580   \n",
       "1  30.727750 -87.722071  ...     7696      7772      7849      7933      8038   \n",
       "2  31.868263 -85.387129  ...     1130      1134      1137      1145      1151   \n",
       "3  32.996421 -87.125115  ...      993      1004      1008      1011      1024   \n",
       "4  33.982109 -86.567906  ...     2574      2594      2648      2683      2704   \n",
       "\n",
       "   11/21/20  11/22/20  11/23/20  11/24/20  11/25/20  \n",
       "0      2597      2617      2634      2661      2686  \n",
       "1      8131      8199      8269      8376      8473  \n",
       "2      1157      1160      1161      1167      1170  \n",
       "3      1036      1136      1142      1157      1162  \n",
       "4      2735      2754      2763      2822      2855  \n",
       "\n",
       "[5 rows x 320 columns]"
      ]
     },
     "execution_count": 3,
     "metadata": {},
     "output_type": "execute_result"
    }
   ],
   "source": [
    "df.head()"
   ]
  },
  {
   "cell_type": "code",
   "execution_count": 4,
   "metadata": {
    "slideshow": {
     "slide_type": "fragment"
    }
   },
   "outputs": [
    {
     "data": {
      "text/html": [
       "<div>\n",
       "<style scoped>\n",
       "    .dataframe tbody tr th:only-of-type {\n",
       "        vertical-align: middle;\n",
       "    }\n",
       "\n",
       "    .dataframe tbody tr th {\n",
       "        vertical-align: top;\n",
       "    }\n",
       "\n",
       "    .dataframe thead th {\n",
       "        text-align: right;\n",
       "    }\n",
       "</style>\n",
       "<table border=\"1\" class=\"dataframe\">\n",
       "  <thead>\n",
       "    <tr style=\"text-align: right;\">\n",
       "      <th></th>\n",
       "      <th>UID</th>\n",
       "      <th>iso2</th>\n",
       "      <th>iso3</th>\n",
       "      <th>code3</th>\n",
       "      <th>FIPS</th>\n",
       "      <th>Admin2</th>\n",
       "      <th>Province_State</th>\n",
       "      <th>Country_Region</th>\n",
       "      <th>Lat</th>\n",
       "      <th>Long_</th>\n",
       "      <th>...</th>\n",
       "      <th>11/16/20</th>\n",
       "      <th>11/17/20</th>\n",
       "      <th>11/18/20</th>\n",
       "      <th>11/19/20</th>\n",
       "      <th>11/20/20</th>\n",
       "      <th>11/21/20</th>\n",
       "      <th>11/22/20</th>\n",
       "      <th>11/23/20</th>\n",
       "      <th>11/24/20</th>\n",
       "      <th>11/25/20</th>\n",
       "    </tr>\n",
       "  </thead>\n",
       "  <tbody>\n",
       "    <tr>\n",
       "      <th>3335</th>\n",
       "      <td>84056039</td>\n",
       "      <td>US</td>\n",
       "      <td>USA</td>\n",
       "      <td>840</td>\n",
       "      <td>56039.0</td>\n",
       "      <td>Teton</td>\n",
       "      <td>Wyoming</td>\n",
       "      <td>US</td>\n",
       "      <td>43.935225</td>\n",
       "      <td>-110.589080</td>\n",
       "      <td>...</td>\n",
       "      <td>1192</td>\n",
       "      <td>1252</td>\n",
       "      <td>1271</td>\n",
       "      <td>1298</td>\n",
       "      <td>1336</td>\n",
       "      <td>1360</td>\n",
       "      <td>1371</td>\n",
       "      <td>1433</td>\n",
       "      <td>1442</td>\n",
       "      <td>1476</td>\n",
       "    </tr>\n",
       "    <tr>\n",
       "      <th>3336</th>\n",
       "      <td>84056041</td>\n",
       "      <td>US</td>\n",
       "      <td>USA</td>\n",
       "      <td>840</td>\n",
       "      <td>56041.0</td>\n",
       "      <td>Uinta</td>\n",
       "      <td>Wyoming</td>\n",
       "      <td>US</td>\n",
       "      <td>41.287818</td>\n",
       "      <td>-110.547578</td>\n",
       "      <td>...</td>\n",
       "      <td>760</td>\n",
       "      <td>796</td>\n",
       "      <td>835</td>\n",
       "      <td>869</td>\n",
       "      <td>894</td>\n",
       "      <td>901</td>\n",
       "      <td>920</td>\n",
       "      <td>950</td>\n",
       "      <td>982</td>\n",
       "      <td>1016</td>\n",
       "    </tr>\n",
       "    <tr>\n",
       "      <th>3337</th>\n",
       "      <td>84090056</td>\n",
       "      <td>US</td>\n",
       "      <td>USA</td>\n",
       "      <td>840</td>\n",
       "      <td>90056.0</td>\n",
       "      <td>Unassigned</td>\n",
       "      <td>Wyoming</td>\n",
       "      <td>US</td>\n",
       "      <td>0.000000</td>\n",
       "      <td>0.000000</td>\n",
       "      <td>...</td>\n",
       "      <td>0</td>\n",
       "      <td>0</td>\n",
       "      <td>0</td>\n",
       "      <td>0</td>\n",
       "      <td>0</td>\n",
       "      <td>0</td>\n",
       "      <td>0</td>\n",
       "      <td>0</td>\n",
       "      <td>0</td>\n",
       "      <td>0</td>\n",
       "    </tr>\n",
       "    <tr>\n",
       "      <th>3338</th>\n",
       "      <td>84056043</td>\n",
       "      <td>US</td>\n",
       "      <td>USA</td>\n",
       "      <td>840</td>\n",
       "      <td>56043.0</td>\n",
       "      <td>Washakie</td>\n",
       "      <td>Wyoming</td>\n",
       "      <td>US</td>\n",
       "      <td>43.904516</td>\n",
       "      <td>-107.680187</td>\n",
       "      <td>...</td>\n",
       "      <td>227</td>\n",
       "      <td>253</td>\n",
       "      <td>263</td>\n",
       "      <td>274</td>\n",
       "      <td>290</td>\n",
       "      <td>298</td>\n",
       "      <td>315</td>\n",
       "      <td>325</td>\n",
       "      <td>339</td>\n",
       "      <td>395</td>\n",
       "    </tr>\n",
       "    <tr>\n",
       "      <th>3339</th>\n",
       "      <td>84056045</td>\n",
       "      <td>US</td>\n",
       "      <td>USA</td>\n",
       "      <td>840</td>\n",
       "      <td>56045.0</td>\n",
       "      <td>Weston</td>\n",
       "      <td>Wyoming</td>\n",
       "      <td>US</td>\n",
       "      <td>43.839612</td>\n",
       "      <td>-104.567488</td>\n",
       "      <td>...</td>\n",
       "      <td>338</td>\n",
       "      <td>346</td>\n",
       "      <td>353</td>\n",
       "      <td>355</td>\n",
       "      <td>364</td>\n",
       "      <td>366</td>\n",
       "      <td>372</td>\n",
       "      <td>372</td>\n",
       "      <td>383</td>\n",
       "      <td>386</td>\n",
       "    </tr>\n",
       "  </tbody>\n",
       "</table>\n",
       "<p>5 rows × 320 columns</p>\n",
       "</div>"
      ],
      "text/plain": [
       "           UID iso2 iso3  code3     FIPS      Admin2 Province_State  \\\n",
       "3335  84056039   US  USA    840  56039.0       Teton        Wyoming   \n",
       "3336  84056041   US  USA    840  56041.0       Uinta        Wyoming   \n",
       "3337  84090056   US  USA    840  90056.0  Unassigned        Wyoming   \n",
       "3338  84056043   US  USA    840  56043.0    Washakie        Wyoming   \n",
       "3339  84056045   US  USA    840  56045.0      Weston        Wyoming   \n",
       "\n",
       "     Country_Region        Lat       Long_  ... 11/16/20  11/17/20  11/18/20  \\\n",
       "3335             US  43.935225 -110.589080  ...     1192      1252      1271   \n",
       "3336             US  41.287818 -110.547578  ...      760       796       835   \n",
       "3337             US   0.000000    0.000000  ...        0         0         0   \n",
       "3338             US  43.904516 -107.680187  ...      227       253       263   \n",
       "3339             US  43.839612 -104.567488  ...      338       346       353   \n",
       "\n",
       "      11/19/20  11/20/20  11/21/20  11/22/20  11/23/20  11/24/20  11/25/20  \n",
       "3335      1298      1336      1360      1371      1433      1442      1476  \n",
       "3336       869       894       901       920       950       982      1016  \n",
       "3337         0         0         0         0         0         0         0  \n",
       "3338       274       290       298       315       325       339       395  \n",
       "3339       355       364       366       372       372       383       386  \n",
       "\n",
       "[5 rows x 320 columns]"
      ]
     },
     "execution_count": 4,
     "metadata": {},
     "output_type": "execute_result"
    }
   ],
   "source": [
    "df.tail()"
   ]
  },
  {
   "cell_type": "markdown",
   "metadata": {
    "slideshow": {
     "slide_type": "subslide"
    }
   },
   "source": [
    "#### Some conclusions: \n",
    "\n",
    "- 320 columns, 3340 entries\n",
    "- No extra lines in start and end of file\n",
    "- Many columns are dates, increamenting by one day at a time. \n",
    "- Data end on Nov. 25 2020\n",
    "- Contain geographical information:  country - province - county + latitude & longitude\n",
    "- We can see an entry (3337) with many zeroes "
   ]
  },
  {
   "cell_type": "markdown",
   "metadata": {
    "slideshow": {
     "slide_type": "slide"
    }
   },
   "source": [
    "## Missing data\n",
    "If data is missing, the field will have a NaN value (Not a Number) - the equivalent of null in SQL. "
   ]
  },
  {
   "cell_type": "markdown",
   "metadata": {
    "slideshow": {
     "slide_type": "fragment"
    }
   },
   "source": [
    "#### `.isnull()`  / `.isna()`  check for null values and returns True or False"
   ]
  },
  {
   "cell_type": "code",
   "execution_count": 5,
   "metadata": {
    "slideshow": {
     "slide_type": "subslide"
    }
   },
   "outputs": [
    {
     "data": {
      "text/html": [
       "<div>\n",
       "<style scoped>\n",
       "    .dataframe tbody tr th:only-of-type {\n",
       "        vertical-align: middle;\n",
       "    }\n",
       "\n",
       "    .dataframe tbody tr th {\n",
       "        vertical-align: top;\n",
       "    }\n",
       "\n",
       "    .dataframe thead th {\n",
       "        text-align: right;\n",
       "    }\n",
       "</style>\n",
       "<table border=\"1\" class=\"dataframe\">\n",
       "  <thead>\n",
       "    <tr style=\"text-align: right;\">\n",
       "      <th></th>\n",
       "      <th>UID</th>\n",
       "      <th>iso2</th>\n",
       "      <th>iso3</th>\n",
       "      <th>code3</th>\n",
       "      <th>FIPS</th>\n",
       "      <th>Admin2</th>\n",
       "      <th>Province_State</th>\n",
       "      <th>Country_Region</th>\n",
       "      <th>Lat</th>\n",
       "      <th>Long_</th>\n",
       "      <th>...</th>\n",
       "      <th>11/16/20</th>\n",
       "      <th>11/17/20</th>\n",
       "      <th>11/18/20</th>\n",
       "      <th>11/19/20</th>\n",
       "      <th>11/20/20</th>\n",
       "      <th>11/21/20</th>\n",
       "      <th>11/22/20</th>\n",
       "      <th>11/23/20</th>\n",
       "      <th>11/24/20</th>\n",
       "      <th>11/25/20</th>\n",
       "    </tr>\n",
       "  </thead>\n",
       "  <tbody>\n",
       "    <tr>\n",
       "      <th>0</th>\n",
       "      <td>False</td>\n",
       "      <td>False</td>\n",
       "      <td>False</td>\n",
       "      <td>False</td>\n",
       "      <td>False</td>\n",
       "      <td>False</td>\n",
       "      <td>False</td>\n",
       "      <td>False</td>\n",
       "      <td>False</td>\n",
       "      <td>False</td>\n",
       "      <td>...</td>\n",
       "      <td>False</td>\n",
       "      <td>False</td>\n",
       "      <td>False</td>\n",
       "      <td>False</td>\n",
       "      <td>False</td>\n",
       "      <td>False</td>\n",
       "      <td>False</td>\n",
       "      <td>False</td>\n",
       "      <td>False</td>\n",
       "      <td>False</td>\n",
       "    </tr>\n",
       "    <tr>\n",
       "      <th>1</th>\n",
       "      <td>False</td>\n",
       "      <td>False</td>\n",
       "      <td>False</td>\n",
       "      <td>False</td>\n",
       "      <td>False</td>\n",
       "      <td>False</td>\n",
       "      <td>False</td>\n",
       "      <td>False</td>\n",
       "      <td>False</td>\n",
       "      <td>False</td>\n",
       "      <td>...</td>\n",
       "      <td>False</td>\n",
       "      <td>False</td>\n",
       "      <td>False</td>\n",
       "      <td>False</td>\n",
       "      <td>False</td>\n",
       "      <td>False</td>\n",
       "      <td>False</td>\n",
       "      <td>False</td>\n",
       "      <td>False</td>\n",
       "      <td>False</td>\n",
       "    </tr>\n",
       "    <tr>\n",
       "      <th>2</th>\n",
       "      <td>False</td>\n",
       "      <td>False</td>\n",
       "      <td>False</td>\n",
       "      <td>False</td>\n",
       "      <td>False</td>\n",
       "      <td>False</td>\n",
       "      <td>False</td>\n",
       "      <td>False</td>\n",
       "      <td>False</td>\n",
       "      <td>False</td>\n",
       "      <td>...</td>\n",
       "      <td>False</td>\n",
       "      <td>False</td>\n",
       "      <td>False</td>\n",
       "      <td>False</td>\n",
       "      <td>False</td>\n",
       "      <td>False</td>\n",
       "      <td>False</td>\n",
       "      <td>False</td>\n",
       "      <td>False</td>\n",
       "      <td>False</td>\n",
       "    </tr>\n",
       "    <tr>\n",
       "      <th>3</th>\n",
       "      <td>False</td>\n",
       "      <td>False</td>\n",
       "      <td>False</td>\n",
       "      <td>False</td>\n",
       "      <td>False</td>\n",
       "      <td>False</td>\n",
       "      <td>False</td>\n",
       "      <td>False</td>\n",
       "      <td>False</td>\n",
       "      <td>False</td>\n",
       "      <td>...</td>\n",
       "      <td>False</td>\n",
       "      <td>False</td>\n",
       "      <td>False</td>\n",
       "      <td>False</td>\n",
       "      <td>False</td>\n",
       "      <td>False</td>\n",
       "      <td>False</td>\n",
       "      <td>False</td>\n",
       "      <td>False</td>\n",
       "      <td>False</td>\n",
       "    </tr>\n",
       "    <tr>\n",
       "      <th>4</th>\n",
       "      <td>False</td>\n",
       "      <td>False</td>\n",
       "      <td>False</td>\n",
       "      <td>False</td>\n",
       "      <td>False</td>\n",
       "      <td>False</td>\n",
       "      <td>False</td>\n",
       "      <td>False</td>\n",
       "      <td>False</td>\n",
       "      <td>False</td>\n",
       "      <td>...</td>\n",
       "      <td>False</td>\n",
       "      <td>False</td>\n",
       "      <td>False</td>\n",
       "      <td>False</td>\n",
       "      <td>False</td>\n",
       "      <td>False</td>\n",
       "      <td>False</td>\n",
       "      <td>False</td>\n",
       "      <td>False</td>\n",
       "      <td>False</td>\n",
       "    </tr>\n",
       "    <tr>\n",
       "      <th>...</th>\n",
       "      <td>...</td>\n",
       "      <td>...</td>\n",
       "      <td>...</td>\n",
       "      <td>...</td>\n",
       "      <td>...</td>\n",
       "      <td>...</td>\n",
       "      <td>...</td>\n",
       "      <td>...</td>\n",
       "      <td>...</td>\n",
       "      <td>...</td>\n",
       "      <td>...</td>\n",
       "      <td>...</td>\n",
       "      <td>...</td>\n",
       "      <td>...</td>\n",
       "      <td>...</td>\n",
       "      <td>...</td>\n",
       "      <td>...</td>\n",
       "      <td>...</td>\n",
       "      <td>...</td>\n",
       "      <td>...</td>\n",
       "      <td>...</td>\n",
       "    </tr>\n",
       "    <tr>\n",
       "      <th>3335</th>\n",
       "      <td>False</td>\n",
       "      <td>False</td>\n",
       "      <td>False</td>\n",
       "      <td>False</td>\n",
       "      <td>False</td>\n",
       "      <td>False</td>\n",
       "      <td>False</td>\n",
       "      <td>False</td>\n",
       "      <td>False</td>\n",
       "      <td>False</td>\n",
       "      <td>...</td>\n",
       "      <td>False</td>\n",
       "      <td>False</td>\n",
       "      <td>False</td>\n",
       "      <td>False</td>\n",
       "      <td>False</td>\n",
       "      <td>False</td>\n",
       "      <td>False</td>\n",
       "      <td>False</td>\n",
       "      <td>False</td>\n",
       "      <td>False</td>\n",
       "    </tr>\n",
       "    <tr>\n",
       "      <th>3336</th>\n",
       "      <td>False</td>\n",
       "      <td>False</td>\n",
       "      <td>False</td>\n",
       "      <td>False</td>\n",
       "      <td>False</td>\n",
       "      <td>False</td>\n",
       "      <td>False</td>\n",
       "      <td>False</td>\n",
       "      <td>False</td>\n",
       "      <td>False</td>\n",
       "      <td>...</td>\n",
       "      <td>False</td>\n",
       "      <td>False</td>\n",
       "      <td>False</td>\n",
       "      <td>False</td>\n",
       "      <td>False</td>\n",
       "      <td>False</td>\n",
       "      <td>False</td>\n",
       "      <td>False</td>\n",
       "      <td>False</td>\n",
       "      <td>False</td>\n",
       "    </tr>\n",
       "    <tr>\n",
       "      <th>3337</th>\n",
       "      <td>False</td>\n",
       "      <td>False</td>\n",
       "      <td>False</td>\n",
       "      <td>False</td>\n",
       "      <td>False</td>\n",
       "      <td>False</td>\n",
       "      <td>False</td>\n",
       "      <td>False</td>\n",
       "      <td>False</td>\n",
       "      <td>False</td>\n",
       "      <td>...</td>\n",
       "      <td>False</td>\n",
       "      <td>False</td>\n",
       "      <td>False</td>\n",
       "      <td>False</td>\n",
       "      <td>False</td>\n",
       "      <td>False</td>\n",
       "      <td>False</td>\n",
       "      <td>False</td>\n",
       "      <td>False</td>\n",
       "      <td>False</td>\n",
       "    </tr>\n",
       "    <tr>\n",
       "      <th>3338</th>\n",
       "      <td>False</td>\n",
       "      <td>False</td>\n",
       "      <td>False</td>\n",
       "      <td>False</td>\n",
       "      <td>False</td>\n",
       "      <td>False</td>\n",
       "      <td>False</td>\n",
       "      <td>False</td>\n",
       "      <td>False</td>\n",
       "      <td>False</td>\n",
       "      <td>...</td>\n",
       "      <td>False</td>\n",
       "      <td>False</td>\n",
       "      <td>False</td>\n",
       "      <td>False</td>\n",
       "      <td>False</td>\n",
       "      <td>False</td>\n",
       "      <td>False</td>\n",
       "      <td>False</td>\n",
       "      <td>False</td>\n",
       "      <td>False</td>\n",
       "    </tr>\n",
       "    <tr>\n",
       "      <th>3339</th>\n",
       "      <td>False</td>\n",
       "      <td>False</td>\n",
       "      <td>False</td>\n",
       "      <td>False</td>\n",
       "      <td>False</td>\n",
       "      <td>False</td>\n",
       "      <td>False</td>\n",
       "      <td>False</td>\n",
       "      <td>False</td>\n",
       "      <td>False</td>\n",
       "      <td>...</td>\n",
       "      <td>False</td>\n",
       "      <td>False</td>\n",
       "      <td>False</td>\n",
       "      <td>False</td>\n",
       "      <td>False</td>\n",
       "      <td>False</td>\n",
       "      <td>False</td>\n",
       "      <td>False</td>\n",
       "      <td>False</td>\n",
       "      <td>False</td>\n",
       "    </tr>\n",
       "  </tbody>\n",
       "</table>\n",
       "<p>3340 rows × 320 columns</p>\n",
       "</div>"
      ],
      "text/plain": [
       "        UID   iso2   iso3  code3   FIPS  Admin2  Province_State  \\\n",
       "0     False  False  False  False  False   False           False   \n",
       "1     False  False  False  False  False   False           False   \n",
       "2     False  False  False  False  False   False           False   \n",
       "3     False  False  False  False  False   False           False   \n",
       "4     False  False  False  False  False   False           False   \n",
       "...     ...    ...    ...    ...    ...     ...             ...   \n",
       "3335  False  False  False  False  False   False           False   \n",
       "3336  False  False  False  False  False   False           False   \n",
       "3337  False  False  False  False  False   False           False   \n",
       "3338  False  False  False  False  False   False           False   \n",
       "3339  False  False  False  False  False   False           False   \n",
       "\n",
       "      Country_Region    Lat  Long_  ...  11/16/20  11/17/20  11/18/20  \\\n",
       "0              False  False  False  ...     False     False     False   \n",
       "1              False  False  False  ...     False     False     False   \n",
       "2              False  False  False  ...     False     False     False   \n",
       "3              False  False  False  ...     False     False     False   \n",
       "4              False  False  False  ...     False     False     False   \n",
       "...              ...    ...    ...  ...       ...       ...       ...   \n",
       "3335           False  False  False  ...     False     False     False   \n",
       "3336           False  False  False  ...     False     False     False   \n",
       "3337           False  False  False  ...     False     False     False   \n",
       "3338           False  False  False  ...     False     False     False   \n",
       "3339           False  False  False  ...     False     False     False   \n",
       "\n",
       "      11/19/20  11/20/20  11/21/20  11/22/20  11/23/20  11/24/20  11/25/20  \n",
       "0        False     False     False     False     False     False     False  \n",
       "1        False     False     False     False     False     False     False  \n",
       "2        False     False     False     False     False     False     False  \n",
       "3        False     False     False     False     False     False     False  \n",
       "4        False     False     False     False     False     False     False  \n",
       "...        ...       ...       ...       ...       ...       ...       ...  \n",
       "3335     False     False     False     False     False     False     False  \n",
       "3336     False     False     False     False     False     False     False  \n",
       "3337     False     False     False     False     False     False     False  \n",
       "3338     False     False     False     False     False     False     False  \n",
       "3339     False     False     False     False     False     False     False  \n",
       "\n",
       "[3340 rows x 320 columns]"
      ]
     },
     "execution_count": 5,
     "metadata": {},
     "output_type": "execute_result"
    }
   ],
   "source": [
    "df.isnull()"
   ]
  },
  {
   "cell_type": "markdown",
   "metadata": {
    "slideshow": {
     "slide_type": "subslide"
    }
   },
   "source": [
    "### Quick assginment\n",
    "Find columns with null values"
   ]
  },
  {
   "cell_type": "code",
   "execution_count": 6,
   "metadata": {
    "slideshow": {
     "slide_type": "fragment"
    }
   },
   "outputs": [
    {
     "data": {
      "text/plain": [
       "FIPS      10\n",
       "Admin2     6\n",
       "dtype: int64"
      ]
     },
     "execution_count": 6,
     "metadata": {},
     "output_type": "execute_result"
    }
   ],
   "source": [
    "null_in_column = df.isnull().sum()\n",
    "null_in_column[null_in_column > 0]"
   ]
  },
  {
   "cell_type": "markdown",
   "metadata": {
    "slideshow": {
     "slide_type": "fragment"
    }
   },
   "source": [
    "There is very little data missing. \n",
    "Let's examine them closer."
   ]
  },
  {
   "cell_type": "code",
   "execution_count": 7,
   "metadata": {
    "slideshow": {
     "slide_type": "subslide"
    }
   },
   "outputs": [
    {
     "data": {
      "text/html": [
       "<div>\n",
       "<style scoped>\n",
       "    .dataframe tbody tr th:only-of-type {\n",
       "        vertical-align: middle;\n",
       "    }\n",
       "\n",
       "    .dataframe tbody tr th {\n",
       "        vertical-align: top;\n",
       "    }\n",
       "\n",
       "    .dataframe thead th {\n",
       "        text-align: right;\n",
       "    }\n",
       "</style>\n",
       "<table border=\"1\" class=\"dataframe\">\n",
       "  <thead>\n",
       "    <tr style=\"text-align: right;\">\n",
       "      <th></th>\n",
       "      <th>UID</th>\n",
       "      <th>iso2</th>\n",
       "      <th>iso3</th>\n",
       "      <th>code3</th>\n",
       "      <th>FIPS</th>\n",
       "      <th>Admin2</th>\n",
       "      <th>Province_State</th>\n",
       "      <th>Country_Region</th>\n",
       "      <th>Lat</th>\n",
       "      <th>Long_</th>\n",
       "      <th>...</th>\n",
       "      <th>11/16/20</th>\n",
       "      <th>11/17/20</th>\n",
       "      <th>11/18/20</th>\n",
       "      <th>11/19/20</th>\n",
       "      <th>11/20/20</th>\n",
       "      <th>11/21/20</th>\n",
       "      <th>11/22/20</th>\n",
       "      <th>11/23/20</th>\n",
       "      <th>11/24/20</th>\n",
       "      <th>11/25/20</th>\n",
       "    </tr>\n",
       "  </thead>\n",
       "  <tbody>\n",
       "    <tr>\n",
       "      <th>1267</th>\n",
       "      <td>84070002</td>\n",
       "      <td>US</td>\n",
       "      <td>USA</td>\n",
       "      <td>840</td>\n",
       "      <td>NaN</td>\n",
       "      <td>Dukes and Nantucket</td>\n",
       "      <td>Massachusetts</td>\n",
       "      <td>US</td>\n",
       "      <td>41.406747</td>\n",
       "      <td>-70.687635</td>\n",
       "      <td>...</td>\n",
       "      <td>433</td>\n",
       "      <td>446</td>\n",
       "      <td>465</td>\n",
       "      <td>475</td>\n",
       "      <td>486</td>\n",
       "      <td>496</td>\n",
       "      <td>508</td>\n",
       "      <td>519</td>\n",
       "      <td>524</td>\n",
       "      <td>528</td>\n",
       "    </tr>\n",
       "    <tr>\n",
       "      <th>1304</th>\n",
       "      <td>84070005</td>\n",
       "      <td>US</td>\n",
       "      <td>USA</td>\n",
       "      <td>840</td>\n",
       "      <td>NaN</td>\n",
       "      <td>Federal Correctional Institution (FCI)</td>\n",
       "      <td>Michigan</td>\n",
       "      <td>US</td>\n",
       "      <td>0.000000</td>\n",
       "      <td>0.000000</td>\n",
       "      <td>...</td>\n",
       "      <td>197</td>\n",
       "      <td>197</td>\n",
       "      <td>197</td>\n",
       "      <td>197</td>\n",
       "      <td>198</td>\n",
       "      <td>199</td>\n",
       "      <td>199</td>\n",
       "      <td>199</td>\n",
       "      <td>199</td>\n",
       "      <td>199</td>\n",
       "    </tr>\n",
       "    <tr>\n",
       "      <th>1336</th>\n",
       "      <td>84070004</td>\n",
       "      <td>US</td>\n",
       "      <td>USA</td>\n",
       "      <td>840</td>\n",
       "      <td>NaN</td>\n",
       "      <td>Michigan Department of Corrections (MDOC)</td>\n",
       "      <td>Michigan</td>\n",
       "      <td>US</td>\n",
       "      <td>0.000000</td>\n",
       "      <td>0.000000</td>\n",
       "      <td>...</td>\n",
       "      <td>9421</td>\n",
       "      <td>9527</td>\n",
       "      <td>9573</td>\n",
       "      <td>9947</td>\n",
       "      <td>10859</td>\n",
       "      <td>11730</td>\n",
       "      <td>11730</td>\n",
       "      <td>11825</td>\n",
       "      <td>11870</td>\n",
       "      <td>11882</td>\n",
       "    </tr>\n",
       "    <tr>\n",
       "      <th>1591</th>\n",
       "      <td>84070003</td>\n",
       "      <td>US</td>\n",
       "      <td>USA</td>\n",
       "      <td>840</td>\n",
       "      <td>NaN</td>\n",
       "      <td>Kansas City</td>\n",
       "      <td>Missouri</td>\n",
       "      <td>US</td>\n",
       "      <td>39.099700</td>\n",
       "      <td>-94.578600</td>\n",
       "      <td>...</td>\n",
       "      <td>19360</td>\n",
       "      <td>19645</td>\n",
       "      <td>20045</td>\n",
       "      <td>20337</td>\n",
       "      <td>20658</td>\n",
       "      <td>21042</td>\n",
       "      <td>21420</td>\n",
       "      <td>21608</td>\n",
       "      <td>21884</td>\n",
       "      <td>22183</td>\n",
       "    </tr>\n",
       "    <tr>\n",
       "      <th>2954</th>\n",
       "      <td>84070015</td>\n",
       "      <td>US</td>\n",
       "      <td>USA</td>\n",
       "      <td>840</td>\n",
       "      <td>NaN</td>\n",
       "      <td>Bear River</td>\n",
       "      <td>Utah</td>\n",
       "      <td>US</td>\n",
       "      <td>41.521068</td>\n",
       "      <td>-113.083282</td>\n",
       "      <td>...</td>\n",
       "      <td>7763</td>\n",
       "      <td>7897</td>\n",
       "      <td>8082</td>\n",
       "      <td>8365</td>\n",
       "      <td>8634</td>\n",
       "      <td>8962</td>\n",
       "      <td>9129</td>\n",
       "      <td>9271</td>\n",
       "      <td>9376</td>\n",
       "      <td>9451</td>\n",
       "    </tr>\n",
       "    <tr>\n",
       "      <th>2959</th>\n",
       "      <td>84070016</td>\n",
       "      <td>US</td>\n",
       "      <td>USA</td>\n",
       "      <td>840</td>\n",
       "      <td>NaN</td>\n",
       "      <td>Central Utah</td>\n",
       "      <td>Utah</td>\n",
       "      <td>US</td>\n",
       "      <td>39.372319</td>\n",
       "      <td>-111.575868</td>\n",
       "      <td>...</td>\n",
       "      <td>2210</td>\n",
       "      <td>2254</td>\n",
       "      <td>2360</td>\n",
       "      <td>2471</td>\n",
       "      <td>2556</td>\n",
       "      <td>2668</td>\n",
       "      <td>2720</td>\n",
       "      <td>2779</td>\n",
       "      <td>2849</td>\n",
       "      <td>2881</td>\n",
       "    </tr>\n",
       "    <tr>\n",
       "      <th>2978</th>\n",
       "      <td>84070017</td>\n",
       "      <td>US</td>\n",
       "      <td>USA</td>\n",
       "      <td>840</td>\n",
       "      <td>NaN</td>\n",
       "      <td>Southeast Utah</td>\n",
       "      <td>Utah</td>\n",
       "      <td>US</td>\n",
       "      <td>38.996171</td>\n",
       "      <td>-110.701396</td>\n",
       "      <td>...</td>\n",
       "      <td>929</td>\n",
       "      <td>962</td>\n",
       "      <td>1011</td>\n",
       "      <td>1054</td>\n",
       "      <td>1097</td>\n",
       "      <td>1139</td>\n",
       "      <td>1156</td>\n",
       "      <td>1175</td>\n",
       "      <td>1209</td>\n",
       "      <td>1248</td>\n",
       "    </tr>\n",
       "    <tr>\n",
       "      <th>2979</th>\n",
       "      <td>84070018</td>\n",
       "      <td>US</td>\n",
       "      <td>USA</td>\n",
       "      <td>840</td>\n",
       "      <td>NaN</td>\n",
       "      <td>Southwest Utah</td>\n",
       "      <td>Utah</td>\n",
       "      <td>US</td>\n",
       "      <td>37.854472</td>\n",
       "      <td>-111.441876</td>\n",
       "      <td>...</td>\n",
       "      <td>8945</td>\n",
       "      <td>9228</td>\n",
       "      <td>9459</td>\n",
       "      <td>9678</td>\n",
       "      <td>10037</td>\n",
       "      <td>10370</td>\n",
       "      <td>10470</td>\n",
       "      <td>10686</td>\n",
       "      <td>10911</td>\n",
       "      <td>11066</td>\n",
       "    </tr>\n",
       "    <tr>\n",
       "      <th>2982</th>\n",
       "      <td>84070019</td>\n",
       "      <td>US</td>\n",
       "      <td>USA</td>\n",
       "      <td>840</td>\n",
       "      <td>NaN</td>\n",
       "      <td>TriCounty</td>\n",
       "      <td>Utah</td>\n",
       "      <td>US</td>\n",
       "      <td>40.124915</td>\n",
       "      <td>-109.517442</td>\n",
       "      <td>...</td>\n",
       "      <td>987</td>\n",
       "      <td>1037</td>\n",
       "      <td>1102</td>\n",
       "      <td>1136</td>\n",
       "      <td>1195</td>\n",
       "      <td>1245</td>\n",
       "      <td>1277</td>\n",
       "      <td>1289</td>\n",
       "      <td>1327</td>\n",
       "      <td>1349</td>\n",
       "    </tr>\n",
       "    <tr>\n",
       "      <th>2990</th>\n",
       "      <td>84070020</td>\n",
       "      <td>US</td>\n",
       "      <td>USA</td>\n",
       "      <td>840</td>\n",
       "      <td>NaN</td>\n",
       "      <td>Weber-Morgan</td>\n",
       "      <td>Utah</td>\n",
       "      <td>US</td>\n",
       "      <td>41.271160</td>\n",
       "      <td>-111.914512</td>\n",
       "      <td>...</td>\n",
       "      <td>10230</td>\n",
       "      <td>10451</td>\n",
       "      <td>10710</td>\n",
       "      <td>10968</td>\n",
       "      <td>11350</td>\n",
       "      <td>11576</td>\n",
       "      <td>11786</td>\n",
       "      <td>11987</td>\n",
       "      <td>12112</td>\n",
       "      <td>12255</td>\n",
       "    </tr>\n",
       "  </tbody>\n",
       "</table>\n",
       "<p>10 rows × 320 columns</p>\n",
       "</div>"
      ],
      "text/plain": [
       "           UID iso2 iso3  code3  FIPS  \\\n",
       "1267  84070002   US  USA    840   NaN   \n",
       "1304  84070005   US  USA    840   NaN   \n",
       "1336  84070004   US  USA    840   NaN   \n",
       "1591  84070003   US  USA    840   NaN   \n",
       "2954  84070015   US  USA    840   NaN   \n",
       "2959  84070016   US  USA    840   NaN   \n",
       "2978  84070017   US  USA    840   NaN   \n",
       "2979  84070018   US  USA    840   NaN   \n",
       "2982  84070019   US  USA    840   NaN   \n",
       "2990  84070020   US  USA    840   NaN   \n",
       "\n",
       "                                         Admin2 Province_State Country_Region  \\\n",
       "1267                        Dukes and Nantucket  Massachusetts             US   \n",
       "1304     Federal Correctional Institution (FCI)       Michigan             US   \n",
       "1336  Michigan Department of Corrections (MDOC)       Michigan             US   \n",
       "1591                                Kansas City       Missouri             US   \n",
       "2954                                 Bear River           Utah             US   \n",
       "2959                               Central Utah           Utah             US   \n",
       "2978                             Southeast Utah           Utah             US   \n",
       "2979                             Southwest Utah           Utah             US   \n",
       "2982                                  TriCounty           Utah             US   \n",
       "2990                               Weber-Morgan           Utah             US   \n",
       "\n",
       "            Lat       Long_  ... 11/16/20  11/17/20  11/18/20  11/19/20  \\\n",
       "1267  41.406747  -70.687635  ...      433       446       465       475   \n",
       "1304   0.000000    0.000000  ...      197       197       197       197   \n",
       "1336   0.000000    0.000000  ...     9421      9527      9573      9947   \n",
       "1591  39.099700  -94.578600  ...    19360     19645     20045     20337   \n",
       "2954  41.521068 -113.083282  ...     7763      7897      8082      8365   \n",
       "2959  39.372319 -111.575868  ...     2210      2254      2360      2471   \n",
       "2978  38.996171 -110.701396  ...      929       962      1011      1054   \n",
       "2979  37.854472 -111.441876  ...     8945      9228      9459      9678   \n",
       "2982  40.124915 -109.517442  ...      987      1037      1102      1136   \n",
       "2990  41.271160 -111.914512  ...    10230     10451     10710     10968   \n",
       "\n",
       "      11/20/20  11/21/20  11/22/20  11/23/20  11/24/20  11/25/20  \n",
       "1267       486       496       508       519       524       528  \n",
       "1304       198       199       199       199       199       199  \n",
       "1336     10859     11730     11730     11825     11870     11882  \n",
       "1591     20658     21042     21420     21608     21884     22183  \n",
       "2954      8634      8962      9129      9271      9376      9451  \n",
       "2959      2556      2668      2720      2779      2849      2881  \n",
       "2978      1097      1139      1156      1175      1209      1248  \n",
       "2979     10037     10370     10470     10686     10911     11066  \n",
       "2982      1195      1245      1277      1289      1327      1349  \n",
       "2990     11350     11576     11786     11987     12112     12255  \n",
       "\n",
       "[10 rows x 320 columns]"
      ]
     },
     "execution_count": 7,
     "metadata": {},
     "output_type": "execute_result"
    }
   ],
   "source": [
    "df[df.FIPS.isnull()]"
   ]
  },
  {
   "cell_type": "code",
   "execution_count": 8,
   "metadata": {
    "slideshow": {
     "slide_type": "subslide"
    }
   },
   "outputs": [
    {
     "data": {
      "text/html": [
       "<div>\n",
       "<style scoped>\n",
       "    .dataframe tbody tr th:only-of-type {\n",
       "        vertical-align: middle;\n",
       "    }\n",
       "\n",
       "    .dataframe tbody tr th {\n",
       "        vertical-align: top;\n",
       "    }\n",
       "\n",
       "    .dataframe thead th {\n",
       "        text-align: right;\n",
       "    }\n",
       "</style>\n",
       "<table border=\"1\" class=\"dataframe\">\n",
       "  <thead>\n",
       "    <tr style=\"text-align: right;\">\n",
       "      <th></th>\n",
       "      <th>UID</th>\n",
       "      <th>iso2</th>\n",
       "      <th>iso3</th>\n",
       "      <th>code3</th>\n",
       "      <th>FIPS</th>\n",
       "      <th>Admin2</th>\n",
       "      <th>Province_State</th>\n",
       "      <th>Country_Region</th>\n",
       "      <th>Lat</th>\n",
       "      <th>Long_</th>\n",
       "      <th>Combined_Key</th>\n",
       "      <th>1/22/20</th>\n",
       "    </tr>\n",
       "  </thead>\n",
       "  <tbody>\n",
       "    <tr>\n",
       "      <th>100</th>\n",
       "      <td>16</td>\n",
       "      <td>AS</td>\n",
       "      <td>ASM</td>\n",
       "      <td>16</td>\n",
       "      <td>60.0</td>\n",
       "      <td>NaN</td>\n",
       "      <td>American Samoa</td>\n",
       "      <td>US</td>\n",
       "      <td>-14.2710</td>\n",
       "      <td>-170.1320</td>\n",
       "      <td>American Samoa, US</td>\n",
       "      <td>0</td>\n",
       "    </tr>\n",
       "    <tr>\n",
       "      <th>336</th>\n",
       "      <td>84088888</td>\n",
       "      <td>US</td>\n",
       "      <td>USA</td>\n",
       "      <td>840</td>\n",
       "      <td>88888.0</td>\n",
       "      <td>NaN</td>\n",
       "      <td>Diamond Princess</td>\n",
       "      <td>US</td>\n",
       "      <td>0.0000</td>\n",
       "      <td>0.0000</td>\n",
       "      <td>Diamond Princess, US</td>\n",
       "      <td>0</td>\n",
       "    </tr>\n",
       "    <tr>\n",
       "      <th>570</th>\n",
       "      <td>84099999</td>\n",
       "      <td>US</td>\n",
       "      <td>USA</td>\n",
       "      <td>840</td>\n",
       "      <td>99999.0</td>\n",
       "      <td>NaN</td>\n",
       "      <td>Grand Princess</td>\n",
       "      <td>US</td>\n",
       "      <td>0.0000</td>\n",
       "      <td>0.0000</td>\n",
       "      <td>Grand Princess, US</td>\n",
       "      <td>0</td>\n",
       "    </tr>\n",
       "    <tr>\n",
       "      <th>571</th>\n",
       "      <td>316</td>\n",
       "      <td>GU</td>\n",
       "      <td>GUM</td>\n",
       "      <td>316</td>\n",
       "      <td>66.0</td>\n",
       "      <td>NaN</td>\n",
       "      <td>Guam</td>\n",
       "      <td>US</td>\n",
       "      <td>13.4443</td>\n",
       "      <td>144.7937</td>\n",
       "      <td>Guam, US</td>\n",
       "      <td>0</td>\n",
       "    </tr>\n",
       "    <tr>\n",
       "      <th>2121</th>\n",
       "      <td>580</td>\n",
       "      <td>MP</td>\n",
       "      <td>MNP</td>\n",
       "      <td>580</td>\n",
       "      <td>69.0</td>\n",
       "      <td>NaN</td>\n",
       "      <td>Northern Mariana Islands</td>\n",
       "      <td>US</td>\n",
       "      <td>15.0979</td>\n",
       "      <td>145.6739</td>\n",
       "      <td>Northern Mariana Islands, US</td>\n",
       "      <td>0</td>\n",
       "    </tr>\n",
       "    <tr>\n",
       "      <th>3007</th>\n",
       "      <td>850</td>\n",
       "      <td>VI</td>\n",
       "      <td>VIR</td>\n",
       "      <td>850</td>\n",
       "      <td>78.0</td>\n",
       "      <td>NaN</td>\n",
       "      <td>Virgin Islands</td>\n",
       "      <td>US</td>\n",
       "      <td>18.3358</td>\n",
       "      <td>-64.8963</td>\n",
       "      <td>Virgin Islands, US</td>\n",
       "      <td>0</td>\n",
       "    </tr>\n",
       "  </tbody>\n",
       "</table>\n",
       "</div>"
      ],
      "text/plain": [
       "           UID iso2 iso3  code3     FIPS Admin2            Province_State  \\\n",
       "100         16   AS  ASM     16     60.0    NaN            American Samoa   \n",
       "336   84088888   US  USA    840  88888.0    NaN          Diamond Princess   \n",
       "570   84099999   US  USA    840  99999.0    NaN            Grand Princess   \n",
       "571        316   GU  GUM    316     66.0    NaN                      Guam   \n",
       "2121       580   MP  MNP    580     69.0    NaN  Northern Mariana Islands   \n",
       "3007       850   VI  VIR    850     78.0    NaN            Virgin Islands   \n",
       "\n",
       "     Country_Region      Lat     Long_                  Combined_Key  1/22/20  \n",
       "100              US -14.2710 -170.1320            American Samoa, US        0  \n",
       "336              US   0.0000    0.0000          Diamond Princess, US        0  \n",
       "570              US   0.0000    0.0000            Grand Princess, US        0  \n",
       "571              US  13.4443  144.7937                      Guam, US        0  \n",
       "2121             US  15.0979  145.6739  Northern Mariana Islands, US        0  \n",
       "3007             US  18.3358  -64.8963            Virgin Islands, US        0  "
      ]
     },
     "execution_count": 8,
     "metadata": {},
     "output_type": "execute_result"
    }
   ],
   "source": [
    "df[df.Admin2.isna()][df.columns[:12]]"
   ]
  },
  {
   "cell_type": "markdown",
   "metadata": {
    "slideshow": {
     "slide_type": "fragment"
    }
   },
   "source": [
    "All other values appear to be present.  \n",
    "We have no reason to remove the rows with missing values from the dataset.   \n",
    "We can however substitute the null value, with a value of our choice"
   ]
  },
  {
   "cell_type": "markdown",
   "metadata": {
    "slideshow": {
     "slide_type": "slide"
    }
   },
   "source": [
    "#### `df.fillna()`\n",
    "https://pandas.pydata.org/pandas-docs/stable/reference/api/pandas.DataFrame.fillna.html"
   ]
  },
  {
   "cell_type": "markdown",
   "metadata": {
    "slideshow": {
     "slide_type": "subslide"
    }
   },
   "source": [
    "### Quick assginment\n",
    "Apply .fillna() to 'FIPS' and  'Admin2'"
   ]
  },
  {
   "cell_type": "code",
   "execution_count": 9,
   "metadata": {
    "slideshow": {
     "slide_type": "fragment"
    }
   },
   "outputs": [],
   "source": [
    "values_to_use = {'FIPS': -1, 'Admin2': 'Unassigned'}\n",
    "df.fillna(value=values_to_use, inplace=True)"
   ]
  },
  {
   "cell_type": "code",
   "execution_count": 10,
   "metadata": {
    "slideshow": {
     "slide_type": "fragment"
    }
   },
   "outputs": [
    {
     "data": {
      "text/html": [
       "<div>\n",
       "<style scoped>\n",
       "    .dataframe tbody tr th:only-of-type {\n",
       "        vertical-align: middle;\n",
       "    }\n",
       "\n",
       "    .dataframe tbody tr th {\n",
       "        vertical-align: top;\n",
       "    }\n",
       "\n",
       "    .dataframe thead th {\n",
       "        text-align: right;\n",
       "    }\n",
       "</style>\n",
       "<table border=\"1\" class=\"dataframe\">\n",
       "  <thead>\n",
       "    <tr style=\"text-align: right;\">\n",
       "      <th></th>\n",
       "      <th>UID</th>\n",
       "      <th>iso2</th>\n",
       "      <th>iso3</th>\n",
       "      <th>code3</th>\n",
       "      <th>FIPS</th>\n",
       "      <th>Admin2</th>\n",
       "      <th>Province_State</th>\n",
       "      <th>Country_Region</th>\n",
       "      <th>Lat</th>\n",
       "      <th>Long_</th>\n",
       "      <th>Combined_Key</th>\n",
       "      <th>1/22/20</th>\n",
       "    </tr>\n",
       "  </thead>\n",
       "  <tbody>\n",
       "  </tbody>\n",
       "</table>\n",
       "</div>"
      ],
      "text/plain": [
       "Empty DataFrame\n",
       "Columns: [UID, iso2, iso3, code3, FIPS, Admin2, Province_State, Country_Region, Lat, Long_, Combined_Key, 1/22/20]\n",
       "Index: []"
      ]
     },
     "execution_count": 10,
     "metadata": {},
     "output_type": "execute_result"
    }
   ],
   "source": [
    "df[df.Admin2.isna()][df.columns[:12]]"
   ]
  },
  {
   "cell_type": "markdown",
   "metadata": {
    "slideshow": {
     "slide_type": "slide"
    }
   },
   "source": [
    "### Keep exploring"
   ]
  },
  {
   "cell_type": "code",
   "execution_count": 11,
   "metadata": {
    "slideshow": {
     "slide_type": "fragment"
    }
   },
   "outputs": [
    {
     "data": {
      "text/plain": [
       "Index(['UID', 'iso2', 'iso3', 'code3', 'FIPS', 'Admin2', 'Province_State',\n",
       "       'Country_Region', 'Lat', 'Long_', 'Combined_Key', '1/22/20', '1/23/20',\n",
       "       '1/24/20', '1/25/20'],\n",
       "      dtype='object')"
      ]
     },
     "execution_count": 11,
     "metadata": {},
     "output_type": "execute_result"
    }
   ],
   "source": [
    "# find where date entries start\n",
    "df.columns[:15]"
   ]
  },
  {
   "cell_type": "code",
   "execution_count": 12,
   "metadata": {
    "slideshow": {
     "slide_type": "fragment"
    }
   },
   "outputs": [
    {
     "data": {
      "text/html": [
       "<div>\n",
       "<style scoped>\n",
       "    .dataframe tbody tr th:only-of-type {\n",
       "        vertical-align: middle;\n",
       "    }\n",
       "\n",
       "    .dataframe tbody tr th {\n",
       "        vertical-align: top;\n",
       "    }\n",
       "\n",
       "    .dataframe thead th {\n",
       "        text-align: right;\n",
       "    }\n",
       "</style>\n",
       "<table border=\"1\" class=\"dataframe\">\n",
       "  <thead>\n",
       "    <tr style=\"text-align: right;\">\n",
       "      <th></th>\n",
       "      <th>UID</th>\n",
       "      <th>iso2</th>\n",
       "      <th>iso3</th>\n",
       "      <th>code3</th>\n",
       "      <th>FIPS</th>\n",
       "      <th>Admin2</th>\n",
       "      <th>Province_State</th>\n",
       "      <th>Country_Region</th>\n",
       "      <th>Lat</th>\n",
       "      <th>Long_</th>\n",
       "      <th>Combined_Key</th>\n",
       "    </tr>\n",
       "  </thead>\n",
       "  <tbody>\n",
       "    <tr>\n",
       "      <th>0</th>\n",
       "      <td>84001001</td>\n",
       "      <td>US</td>\n",
       "      <td>USA</td>\n",
       "      <td>840</td>\n",
       "      <td>1001.0</td>\n",
       "      <td>Autauga</td>\n",
       "      <td>Alabama</td>\n",
       "      <td>US</td>\n",
       "      <td>32.539527</td>\n",
       "      <td>-86.644082</td>\n",
       "      <td>Autauga, Alabama, US</td>\n",
       "    </tr>\n",
       "    <tr>\n",
       "      <th>1</th>\n",
       "      <td>84001003</td>\n",
       "      <td>US</td>\n",
       "      <td>USA</td>\n",
       "      <td>840</td>\n",
       "      <td>1003.0</td>\n",
       "      <td>Baldwin</td>\n",
       "      <td>Alabama</td>\n",
       "      <td>US</td>\n",
       "      <td>30.727750</td>\n",
       "      <td>-87.722071</td>\n",
       "      <td>Baldwin, Alabama, US</td>\n",
       "    </tr>\n",
       "    <tr>\n",
       "      <th>2</th>\n",
       "      <td>84001005</td>\n",
       "      <td>US</td>\n",
       "      <td>USA</td>\n",
       "      <td>840</td>\n",
       "      <td>1005.0</td>\n",
       "      <td>Barbour</td>\n",
       "      <td>Alabama</td>\n",
       "      <td>US</td>\n",
       "      <td>31.868263</td>\n",
       "      <td>-85.387129</td>\n",
       "      <td>Barbour, Alabama, US</td>\n",
       "    </tr>\n",
       "    <tr>\n",
       "      <th>3</th>\n",
       "      <td>84001007</td>\n",
       "      <td>US</td>\n",
       "      <td>USA</td>\n",
       "      <td>840</td>\n",
       "      <td>1007.0</td>\n",
       "      <td>Bibb</td>\n",
       "      <td>Alabama</td>\n",
       "      <td>US</td>\n",
       "      <td>32.996421</td>\n",
       "      <td>-87.125115</td>\n",
       "      <td>Bibb, Alabama, US</td>\n",
       "    </tr>\n",
       "    <tr>\n",
       "      <th>4</th>\n",
       "      <td>84001009</td>\n",
       "      <td>US</td>\n",
       "      <td>USA</td>\n",
       "      <td>840</td>\n",
       "      <td>1009.0</td>\n",
       "      <td>Blount</td>\n",
       "      <td>Alabama</td>\n",
       "      <td>US</td>\n",
       "      <td>33.982109</td>\n",
       "      <td>-86.567906</td>\n",
       "      <td>Blount, Alabama, US</td>\n",
       "    </tr>\n",
       "  </tbody>\n",
       "</table>\n",
       "</div>"
      ],
      "text/plain": [
       "        UID iso2 iso3  code3    FIPS   Admin2 Province_State Country_Region  \\\n",
       "0  84001001   US  USA    840  1001.0  Autauga        Alabama             US   \n",
       "1  84001003   US  USA    840  1003.0  Baldwin        Alabama             US   \n",
       "2  84001005   US  USA    840  1005.0  Barbour        Alabama             US   \n",
       "3  84001007   US  USA    840  1007.0     Bibb        Alabama             US   \n",
       "4  84001009   US  USA    840  1009.0   Blount        Alabama             US   \n",
       "\n",
       "         Lat      Long_          Combined_Key  \n",
       "0  32.539527 -86.644082  Autauga, Alabama, US  \n",
       "1  30.727750 -87.722071  Baldwin, Alabama, US  \n",
       "2  31.868263 -85.387129  Barbour, Alabama, US  \n",
       "3  32.996421 -87.125115     Bibb, Alabama, US  \n",
       "4  33.982109 -86.567906   Blount, Alabama, US  "
      ]
     },
     "execution_count": 12,
     "metadata": {},
     "output_type": "execute_result"
    }
   ],
   "source": [
    "# see content of columns that are not dates\n",
    "df[df.columns[:11]].head()"
   ]
  },
  {
   "cell_type": "markdown",
   "metadata": {
    "slideshow": {
     "slide_type": "subslide"
    }
   },
   "source": [
    "#### `.nunique()`    get number of unique values in a column\n",
    "In this dataset, it doesn't make sense to check number of unique values in date columns.    \n",
    "We will limit our search to categorical columns "
   ]
  },
  {
   "cell_type": "code",
   "execution_count": 13,
   "metadata": {
    "slideshow": {
     "slide_type": "fragment"
    }
   },
   "outputs": [
    {
     "data": {
      "text/plain": [
       "58"
      ]
     },
     "execution_count": 13,
     "metadata": {},
     "output_type": "execute_result"
    }
   ],
   "source": [
    "df.Province_State.nunique()"
   ]
  },
  {
   "cell_type": "markdown",
   "metadata": {
    "slideshow": {
     "slide_type": "subslide"
    }
   },
   "source": [
    "### Quick assginment\n",
    "Apply .nunique() to columns of interest"
   ]
  },
  {
   "cell_type": "code",
   "execution_count": 14,
   "metadata": {
    "slideshow": {
     "slide_type": "fragment"
    }
   },
   "outputs": [
    {
     "data": {
      "text/plain": [
       "[('UID', 3340),\n",
       " ('iso2', 6),\n",
       " ('iso3', 6),\n",
       " ('code3', 6),\n",
       " ('FIPS', 3331),\n",
       " ('Admin2', 1978),\n",
       " ('Province_State', 58),\n",
       " ('Country_Region', 1),\n",
       " ('Lat', 3226),\n",
       " ('Long_', 3226),\n",
       " ('Combined_Key', 3340)]"
      ]
     },
     "execution_count": 14,
     "metadata": {},
     "output_type": "execute_result"
    }
   ],
   "source": [
    "nunique = [(col, df[col].nunique()) for col in df.columns[:11]]\n",
    "nunique"
   ]
  },
  {
   "cell_type": "markdown",
   "metadata": {
    "slideshow": {
     "slide_type": "subslide"
    }
   },
   "source": [
    "#### `.unique()`    get unique values in a column"
   ]
  },
  {
   "cell_type": "code",
   "execution_count": 15,
   "metadata": {
    "slideshow": {
     "slide_type": "fragment"
    }
   },
   "outputs": [
    {
     "data": {
      "text/plain": [
       "array(['US', 'AS', 'GU', 'MP', 'PR', 'VI'], dtype=object)"
      ]
     },
     "execution_count": 15,
     "metadata": {},
     "output_type": "execute_result"
    }
   ],
   "source": [
    "iso2 = df.iso2.unique()\n",
    "iso2"
   ]
  },
  {
   "cell_type": "markdown",
   "metadata": {
    "slideshow": {
     "slide_type": "subslide"
    }
   },
   "source": [
    "### Quick assginment\n",
    "Apply .unique() to 'iso3' and 'code3'    \n",
    "Use dot and bracket notation respectively "
   ]
  },
  {
   "cell_type": "code",
   "execution_count": 16,
   "metadata": {
    "slideshow": {
     "slide_type": "fragment"
    }
   },
   "outputs": [
    {
     "data": {
      "text/plain": [
       "array(['USA', 'ASM', 'GUM', 'MNP', 'PRI', 'VIR'], dtype=object)"
      ]
     },
     "execution_count": 16,
     "metadata": {},
     "output_type": "execute_result"
    }
   ],
   "source": [
    "iso3 = df.iso3.unique()\n",
    "iso3"
   ]
  },
  {
   "cell_type": "code",
   "execution_count": 17,
   "metadata": {
    "slideshow": {
     "slide_type": "fragment"
    }
   },
   "outputs": [
    {
     "data": {
      "text/plain": [
       "array([840,  16, 316, 580, 630, 850])"
      ]
     },
     "execution_count": 17,
     "metadata": {},
     "output_type": "execute_result"
    }
   ],
   "source": [
    "code3 = df['code3'].unique()\n",
    "code3"
   ]
  },
  {
   "cell_type": "markdown",
   "metadata": {
    "slideshow": {
     "slide_type": "subslide"
    }
   },
   "source": [
    "You need to understand your data.   \n",
    "Google it!  https://unstats.un.org/unsd/tradekb/knowledgebase/country-code\n",
    "\n",
    "ASM American Samoa  \n",
    "GUM Guam  \n",
    "MNP Northern Mariana Islands  \n",
    "PRI Puerto Rico  \n",
    "VIR Virgin Islands, U.S."
   ]
  },
  {
   "cell_type": "code",
   "execution_count": 18,
   "metadata": {
    "slideshow": {
     "slide_type": "slide"
    }
   },
   "outputs": [
    {
     "data": {
      "text/plain": [
       "[('UID', 3340),\n",
       " ('iso2', 6),\n",
       " ('iso3', 6),\n",
       " ('code3', 6),\n",
       " ('FIPS', 3331),\n",
       " ('Admin2', 1978),\n",
       " ('Province_State', 58),\n",
       " ('Country_Region', 1),\n",
       " ('Lat', 3226),\n",
       " ('Long_', 3226),\n",
       " ('Combined_Key', 3340)]"
      ]
     },
     "execution_count": 18,
     "metadata": {},
     "output_type": "execute_result"
    }
   ],
   "source": [
    "nunique"
   ]
  },
  {
   "cell_type": "markdown",
   "metadata": {
    "slideshow": {
     "slide_type": "fragment"
    }
   },
   "source": [
    "iso2, iso3 and code3 have the same number of unique entries.  \n",
    "Are only the same combinations present, or multiple combinations are possible?  \n",
    "We care because if it's always the same combination, then we have the same data three times."
   ]
  },
  {
   "cell_type": "markdown",
   "metadata": {
    "slideshow": {
     "slide_type": "subslide"
    }
   },
   "source": [
    "To answer this question, we need to check all possible combinations (6^3 = 216)"
   ]
  },
  {
   "cell_type": "code",
   "execution_count": 19,
   "metadata": {
    "slideshow": {
     "slide_type": "fragment"
    }
   },
   "outputs": [
    {
     "data": {
      "text/plain": [
       "[array(['US', 'AS', 'GU', 'MP', 'PR', 'VI'], dtype=object),\n",
       " array(['USA', 'ASM', 'GUM', 'MNP', 'PRI', 'VIR'], dtype=object),\n",
       " array([840,  16, 316, 580, 630, 850])]"
      ]
     },
     "execution_count": 19,
     "metadata": {},
     "output_type": "execute_result"
    }
   ],
   "source": [
    "to_combine = [iso2, iso3, code3]\n",
    "to_combine"
   ]
  },
  {
   "cell_type": "code",
   "execution_count": 20,
   "metadata": {
    "slideshow": {
     "slide_type": "fragment"
    }
   },
   "outputs": [],
   "source": [
    "import itertools"
   ]
  },
  {
   "cell_type": "code",
   "execution_count": 21,
   "metadata": {
    "slideshow": {
     "slide_type": "fragment"
    }
   },
   "outputs": [
    {
     "data": {
      "text/plain": [
       "216"
      ]
     },
     "execution_count": 21,
     "metadata": {},
     "output_type": "execute_result"
    }
   ],
   "source": [
    "all_possible_combinations = [el for el in itertools.product(*to_combine)]\n",
    "len(all_possible_combinations)"
   ]
  },
  {
   "cell_type": "code",
   "execution_count": 22,
   "metadata": {
    "slideshow": {
     "slide_type": "fragment"
    }
   },
   "outputs": [
    {
     "data": {
      "text/plain": [
       "[('VI', 'VIR', 16),\n",
       " ('VI', 'VIR', 316),\n",
       " ('VI', 'VIR', 580),\n",
       " ('VI', 'VIR', 630),\n",
       " ('VI', 'VIR', 850)]"
      ]
     },
     "execution_count": 22,
     "metadata": {},
     "output_type": "execute_result"
    }
   ],
   "source": [
    "all_possible_combinations[-5:]"
   ]
  },
  {
   "cell_type": "code",
   "execution_count": 23,
   "metadata": {
    "slideshow": {
     "slide_type": "subslide"
    }
   },
   "outputs": [
    {
     "data": {
      "text/plain": [
       "[(('US', 'USA', 840), 3256),\n",
       " (('AS', 'ASM', 16), 1),\n",
       " (('GU', 'GUM', 316), 1),\n",
       " (('MP', 'MNP', 580), 1),\n",
       " (('PR', 'PRI', 630), 80),\n",
       " (('VI', 'VIR', 850), 1)]"
      ]
     },
     "execution_count": 23,
     "metadata": {},
     "output_type": "execute_result"
    }
   ],
   "source": [
    "# which combinations appear in the dataframe\n",
    "actual_combinations = []\n",
    "\n",
    "for el in all_possible_combinations:\n",
    "    _ = df[(df.iso2 == el[0]) & \n",
    "           (df.iso3 == el[1]) & \n",
    "           (df.code3 == el[2])].shape[0]\n",
    "    \n",
    "    if _ > 0:\n",
    "        actual_combinations.append((el, _))\n",
    "        \n",
    "actual_combinations"
   ]
  },
  {
   "cell_type": "markdown",
   "metadata": {
    "slideshow": {
     "slide_type": "fragment"
    }
   },
   "source": [
    "So we can delete two columns, without losing information."
   ]
  },
  {
   "cell_type": "markdown",
   "metadata": {
    "slideshow": {
     "slide_type": "fragment"
    }
   },
   "source": [
    "The 'UID' column, probably corresponds to a unique ID, which in our case is not relevant. We can also delete it.   \n",
    "The 'Combined_Key' column, is a combinations of the columns 'Admin2', 'Province_state', 'Country_region'. Again, for our analyis, there is no reason to keep it. "
   ]
  },
  {
   "cell_type": "markdown",
   "metadata": {
    "slideshow": {
     "slide_type": "slide"
    }
   },
   "source": [
    "#### `.drop()`   delete selected rows/columns\n",
    "https://pandas.pydata.org/pandas-docs/stable/reference/api/pandas.DataFrame.drop.html"
   ]
  },
  {
   "cell_type": "markdown",
   "metadata": {
    "slideshow": {
     "slide_type": "subslide"
    }
   },
   "source": [
    "### Quick assginment\n",
    "Apply drop() to 'iso2', 'code3', 'UID', 'Combined_Key' "
   ]
  },
  {
   "cell_type": "code",
   "execution_count": 24,
   "metadata": {
    "slideshow": {
     "slide_type": "fragment"
    }
   },
   "outputs": [],
   "source": [
    "df.drop(columns=['iso2', 'code3', 'UID', 'Combined_Key'], inplace=True)"
   ]
  },
  {
   "cell_type": "code",
   "execution_count": 25,
   "metadata": {
    "slideshow": {
     "slide_type": "fragment"
    }
   },
   "outputs": [
    {
     "data": {
      "text/plain": [
       "Index(['iso3', 'FIPS', 'Admin2', 'Province_State', 'Country_Region', 'Lat',\n",
       "       'Long_', '1/22/20', '1/23/20', '1/24/20'],\n",
       "      dtype='object')"
      ]
     },
     "execution_count": 25,
     "metadata": {},
     "output_type": "execute_result"
    }
   ],
   "source": [
    "df.columns[:10]"
   ]
  },
  {
   "cell_type": "markdown",
   "metadata": {
    "slideshow": {
     "slide_type": "slide"
    }
   },
   "source": [
    "### Outliers"
   ]
  },
  {
   "cell_type": "markdown",
   "metadata": {
    "slideshow": {
     "slide_type": "subslide"
    }
   },
   "source": [
    "#### Let's examine entries with 0 latitude & longitude"
   ]
  },
  {
   "cell_type": "code",
   "execution_count": 26,
   "metadata": {
    "slideshow": {
     "slide_type": "fragment"
    }
   },
   "outputs": [
    {
     "data": {
      "text/html": [
       "<div>\n",
       "<style scoped>\n",
       "    .dataframe tbody tr th:only-of-type {\n",
       "        vertical-align: middle;\n",
       "    }\n",
       "\n",
       "    .dataframe tbody tr th {\n",
       "        vertical-align: top;\n",
       "    }\n",
       "\n",
       "    .dataframe thead th {\n",
       "        text-align: right;\n",
       "    }\n",
       "</style>\n",
       "<table border=\"1\" class=\"dataframe\">\n",
       "  <thead>\n",
       "    <tr style=\"text-align: right;\">\n",
       "      <th></th>\n",
       "      <th>iso3</th>\n",
       "      <th>FIPS</th>\n",
       "      <th>Admin2</th>\n",
       "      <th>Province_State</th>\n",
       "      <th>Country_Region</th>\n",
       "      <th>Lat</th>\n",
       "      <th>Long_</th>\n",
       "      <th>1/22/20</th>\n",
       "      <th>1/23/20</th>\n",
       "      <th>1/24/20</th>\n",
       "      <th>...</th>\n",
       "      <th>11/16/20</th>\n",
       "      <th>11/17/20</th>\n",
       "      <th>11/18/20</th>\n",
       "      <th>11/19/20</th>\n",
       "      <th>11/20/20</th>\n",
       "      <th>11/21/20</th>\n",
       "      <th>11/22/20</th>\n",
       "      <th>11/23/20</th>\n",
       "      <th>11/24/20</th>\n",
       "      <th>11/25/20</th>\n",
       "    </tr>\n",
       "  </thead>\n",
       "  <tbody>\n",
       "    <tr>\n",
       "      <th>52</th>\n",
       "      <td>USA</td>\n",
       "      <td>80001.0</td>\n",
       "      <td>Out of AL</td>\n",
       "      <td>Alabama</td>\n",
       "      <td>US</td>\n",
       "      <td>0.0</td>\n",
       "      <td>0.0</td>\n",
       "      <td>0</td>\n",
       "      <td>0</td>\n",
       "      <td>0</td>\n",
       "      <td>...</td>\n",
       "      <td>0</td>\n",
       "      <td>0</td>\n",
       "      <td>0</td>\n",
       "      <td>0</td>\n",
       "      <td>0</td>\n",
       "      <td>0</td>\n",
       "      <td>0</td>\n",
       "      <td>0</td>\n",
       "      <td>0</td>\n",
       "      <td>0</td>\n",
       "    </tr>\n",
       "    <tr>\n",
       "      <th>64</th>\n",
       "      <td>USA</td>\n",
       "      <td>90001.0</td>\n",
       "      <td>Unassigned</td>\n",
       "      <td>Alabama</td>\n",
       "      <td>US</td>\n",
       "      <td>0.0</td>\n",
       "      <td>0.0</td>\n",
       "      <td>0</td>\n",
       "      <td>0</td>\n",
       "      <td>0</td>\n",
       "      <td>...</td>\n",
       "      <td>0</td>\n",
       "      <td>0</td>\n",
       "      <td>0</td>\n",
       "      <td>0</td>\n",
       "      <td>0</td>\n",
       "      <td>0</td>\n",
       "      <td>0</td>\n",
       "      <td>0</td>\n",
       "      <td>0</td>\n",
       "      <td>0</td>\n",
       "    </tr>\n",
       "    <tr>\n",
       "      <th>89</th>\n",
       "      <td>USA</td>\n",
       "      <td>80002.0</td>\n",
       "      <td>Out of AK</td>\n",
       "      <td>Alaska</td>\n",
       "      <td>US</td>\n",
       "      <td>0.0</td>\n",
       "      <td>0.0</td>\n",
       "      <td>0</td>\n",
       "      <td>0</td>\n",
       "      <td>0</td>\n",
       "      <td>...</td>\n",
       "      <td>0</td>\n",
       "      <td>0</td>\n",
       "      <td>0</td>\n",
       "      <td>0</td>\n",
       "      <td>0</td>\n",
       "      <td>0</td>\n",
       "      <td>0</td>\n",
       "      <td>0</td>\n",
       "      <td>0</td>\n",
       "      <td>0</td>\n",
       "    </tr>\n",
       "    <tr>\n",
       "      <th>95</th>\n",
       "      <td>USA</td>\n",
       "      <td>90002.0</td>\n",
       "      <td>Unassigned</td>\n",
       "      <td>Alaska</td>\n",
       "      <td>US</td>\n",
       "      <td>0.0</td>\n",
       "      <td>0.0</td>\n",
       "      <td>0</td>\n",
       "      <td>0</td>\n",
       "      <td>0</td>\n",
       "      <td>...</td>\n",
       "      <td>106</td>\n",
       "      <td>112</td>\n",
       "      <td>112</td>\n",
       "      <td>115</td>\n",
       "      <td>118</td>\n",
       "      <td>122</td>\n",
       "      <td>129</td>\n",
       "      <td>129</td>\n",
       "      <td>132</td>\n",
       "      <td>138</td>\n",
       "    </tr>\n",
       "    <tr>\n",
       "      <th>111</th>\n",
       "      <td>USA</td>\n",
       "      <td>80004.0</td>\n",
       "      <td>Out of AZ</td>\n",
       "      <td>Arizona</td>\n",
       "      <td>US</td>\n",
       "      <td>0.0</td>\n",
       "      <td>0.0</td>\n",
       "      <td>0</td>\n",
       "      <td>0</td>\n",
       "      <td>0</td>\n",
       "      <td>...</td>\n",
       "      <td>0</td>\n",
       "      <td>0</td>\n",
       "      <td>0</td>\n",
       "      <td>0</td>\n",
       "      <td>0</td>\n",
       "      <td>0</td>\n",
       "      <td>0</td>\n",
       "      <td>0</td>\n",
       "      <td>0</td>\n",
       "      <td>0</td>\n",
       "    </tr>\n",
       "    <tr>\n",
       "      <th>...</th>\n",
       "      <td>...</td>\n",
       "      <td>...</td>\n",
       "      <td>...</td>\n",
       "      <td>...</td>\n",
       "      <td>...</td>\n",
       "      <td>...</td>\n",
       "      <td>...</td>\n",
       "      <td>...</td>\n",
       "      <td>...</td>\n",
       "      <td>...</td>\n",
       "      <td>...</td>\n",
       "      <td>...</td>\n",
       "      <td>...</td>\n",
       "      <td>...</td>\n",
       "      <td>...</td>\n",
       "      <td>...</td>\n",
       "      <td>...</td>\n",
       "      <td>...</td>\n",
       "      <td>...</td>\n",
       "      <td>...</td>\n",
       "      <td>...</td>\n",
       "    </tr>\n",
       "    <tr>\n",
       "      <th>3233</th>\n",
       "      <td>USA</td>\n",
       "      <td>90054.0</td>\n",
       "      <td>Unassigned</td>\n",
       "      <td>West Virginia</td>\n",
       "      <td>US</td>\n",
       "      <td>0.0</td>\n",
       "      <td>0.0</td>\n",
       "      <td>0</td>\n",
       "      <td>0</td>\n",
       "      <td>0</td>\n",
       "      <td>...</td>\n",
       "      <td>0</td>\n",
       "      <td>0</td>\n",
       "      <td>0</td>\n",
       "      <td>0</td>\n",
       "      <td>0</td>\n",
       "      <td>0</td>\n",
       "      <td>0</td>\n",
       "      <td>0</td>\n",
       "      <td>0</td>\n",
       "      <td>0</td>\n",
       "    </tr>\n",
       "    <tr>\n",
       "      <th>3285</th>\n",
       "      <td>USA</td>\n",
       "      <td>80055.0</td>\n",
       "      <td>Out of WI</td>\n",
       "      <td>Wisconsin</td>\n",
       "      <td>US</td>\n",
       "      <td>0.0</td>\n",
       "      <td>0.0</td>\n",
       "      <td>0</td>\n",
       "      <td>0</td>\n",
       "      <td>0</td>\n",
       "      <td>...</td>\n",
       "      <td>0</td>\n",
       "      <td>0</td>\n",
       "      <td>0</td>\n",
       "      <td>0</td>\n",
       "      <td>0</td>\n",
       "      <td>0</td>\n",
       "      <td>0</td>\n",
       "      <td>0</td>\n",
       "      <td>0</td>\n",
       "      <td>0</td>\n",
       "    </tr>\n",
       "    <tr>\n",
       "      <th>3304</th>\n",
       "      <td>USA</td>\n",
       "      <td>90055.0</td>\n",
       "      <td>Unassigned</td>\n",
       "      <td>Wisconsin</td>\n",
       "      <td>US</td>\n",
       "      <td>0.0</td>\n",
       "      <td>0.0</td>\n",
       "      <td>0</td>\n",
       "      <td>0</td>\n",
       "      <td>0</td>\n",
       "      <td>...</td>\n",
       "      <td>0</td>\n",
       "      <td>0</td>\n",
       "      <td>0</td>\n",
       "      <td>0</td>\n",
       "      <td>0</td>\n",
       "      <td>0</td>\n",
       "      <td>0</td>\n",
       "      <td>0</td>\n",
       "      <td>0</td>\n",
       "      <td>0</td>\n",
       "    </tr>\n",
       "    <tr>\n",
       "      <th>3329</th>\n",
       "      <td>USA</td>\n",
       "      <td>80056.0</td>\n",
       "      <td>Out of WY</td>\n",
       "      <td>Wyoming</td>\n",
       "      <td>US</td>\n",
       "      <td>0.0</td>\n",
       "      <td>0.0</td>\n",
       "      <td>0</td>\n",
       "      <td>0</td>\n",
       "      <td>0</td>\n",
       "      <td>...</td>\n",
       "      <td>0</td>\n",
       "      <td>0</td>\n",
       "      <td>0</td>\n",
       "      <td>0</td>\n",
       "      <td>0</td>\n",
       "      <td>0</td>\n",
       "      <td>0</td>\n",
       "      <td>0</td>\n",
       "      <td>0</td>\n",
       "      <td>0</td>\n",
       "    </tr>\n",
       "    <tr>\n",
       "      <th>3337</th>\n",
       "      <td>USA</td>\n",
       "      <td>90056.0</td>\n",
       "      <td>Unassigned</td>\n",
       "      <td>Wyoming</td>\n",
       "      <td>US</td>\n",
       "      <td>0.0</td>\n",
       "      <td>0.0</td>\n",
       "      <td>0</td>\n",
       "      <td>0</td>\n",
       "      <td>0</td>\n",
       "      <td>...</td>\n",
       "      <td>0</td>\n",
       "      <td>0</td>\n",
       "      <td>0</td>\n",
       "      <td>0</td>\n",
       "      <td>0</td>\n",
       "      <td>0</td>\n",
       "      <td>0</td>\n",
       "      <td>0</td>\n",
       "      <td>0</td>\n",
       "      <td>0</td>\n",
       "    </tr>\n",
       "  </tbody>\n",
       "</table>\n",
       "<p>108 rows × 316 columns</p>\n",
       "</div>"
      ],
      "text/plain": [
       "     iso3     FIPS      Admin2 Province_State Country_Region  Lat  Long_  \\\n",
       "52    USA  80001.0   Out of AL        Alabama             US  0.0    0.0   \n",
       "64    USA  90001.0  Unassigned        Alabama             US  0.0    0.0   \n",
       "89    USA  80002.0   Out of AK         Alaska             US  0.0    0.0   \n",
       "95    USA  90002.0  Unassigned         Alaska             US  0.0    0.0   \n",
       "111   USA  80004.0   Out of AZ        Arizona             US  0.0    0.0   \n",
       "...   ...      ...         ...            ...            ...  ...    ...   \n",
       "3233  USA  90054.0  Unassigned  West Virginia             US  0.0    0.0   \n",
       "3285  USA  80055.0   Out of WI      Wisconsin             US  0.0    0.0   \n",
       "3304  USA  90055.0  Unassigned      Wisconsin             US  0.0    0.0   \n",
       "3329  USA  80056.0   Out of WY        Wyoming             US  0.0    0.0   \n",
       "3337  USA  90056.0  Unassigned        Wyoming             US  0.0    0.0   \n",
       "\n",
       "      1/22/20  1/23/20  1/24/20  ...  11/16/20  11/17/20  11/18/20  11/19/20  \\\n",
       "52          0        0        0  ...         0         0         0         0   \n",
       "64          0        0        0  ...         0         0         0         0   \n",
       "89          0        0        0  ...         0         0         0         0   \n",
       "95          0        0        0  ...       106       112       112       115   \n",
       "111         0        0        0  ...         0         0         0         0   \n",
       "...       ...      ...      ...  ...       ...       ...       ...       ...   \n",
       "3233        0        0        0  ...         0         0         0         0   \n",
       "3285        0        0        0  ...         0         0         0         0   \n",
       "3304        0        0        0  ...         0         0         0         0   \n",
       "3329        0        0        0  ...         0         0         0         0   \n",
       "3337        0        0        0  ...         0         0         0         0   \n",
       "\n",
       "      11/20/20  11/21/20  11/22/20  11/23/20  11/24/20  11/25/20  \n",
       "52           0         0         0         0         0         0  \n",
       "64           0         0         0         0         0         0  \n",
       "89           0         0         0         0         0         0  \n",
       "95         118       122       129       129       132       138  \n",
       "111          0         0         0         0         0         0  \n",
       "...        ...       ...       ...       ...       ...       ...  \n",
       "3233         0         0         0         0         0         0  \n",
       "3285         0         0         0         0         0         0  \n",
       "3304         0         0         0         0         0         0  \n",
       "3329         0         0         0         0         0         0  \n",
       "3337         0         0         0         0         0         0  \n",
       "\n",
       "[108 rows x 316 columns]"
      ]
     },
     "execution_count": 26,
     "metadata": {},
     "output_type": "execute_result"
    }
   ],
   "source": [
    "df[df.Lat == 0]"
   ]
  },
  {
   "cell_type": "markdown",
   "metadata": {
    "slideshow": {
     "slide_type": "fragment"
    }
   },
   "source": [
    "Apparently it's possible to have 0 Lat/Long but still have entries in the dates.   \n",
    "So we don't want to just delete any entry with a 0 Lan/Long."
   ]
  },
  {
   "cell_type": "markdown",
   "metadata": {
    "slideshow": {
     "slide_type": "subslide"
    }
   },
   "source": [
    "#### Let's find if there are rows where all entries in dates are equal to 0"
   ]
  },
  {
   "cell_type": "code",
   "execution_count": 27,
   "metadata": {
    "slideshow": {
     "slide_type": "fragment"
    }
   },
   "outputs": [
    {
     "data": {
      "text/html": [
       "<div>\n",
       "<style scoped>\n",
       "    .dataframe tbody tr th:only-of-type {\n",
       "        vertical-align: middle;\n",
       "    }\n",
       "\n",
       "    .dataframe tbody tr th {\n",
       "        vertical-align: top;\n",
       "    }\n",
       "\n",
       "    .dataframe thead th {\n",
       "        text-align: right;\n",
       "    }\n",
       "</style>\n",
       "<table border=\"1\" class=\"dataframe\">\n",
       "  <thead>\n",
       "    <tr style=\"text-align: right;\">\n",
       "      <th></th>\n",
       "      <th>1/22/20</th>\n",
       "      <th>1/23/20</th>\n",
       "      <th>1/24/20</th>\n",
       "      <th>1/25/20</th>\n",
       "      <th>1/26/20</th>\n",
       "      <th>1/27/20</th>\n",
       "      <th>1/28/20</th>\n",
       "      <th>1/29/20</th>\n",
       "      <th>1/30/20</th>\n",
       "      <th>1/31/20</th>\n",
       "      <th>...</th>\n",
       "      <th>11/16/20</th>\n",
       "      <th>11/17/20</th>\n",
       "      <th>11/18/20</th>\n",
       "      <th>11/19/20</th>\n",
       "      <th>11/20/20</th>\n",
       "      <th>11/21/20</th>\n",
       "      <th>11/22/20</th>\n",
       "      <th>11/23/20</th>\n",
       "      <th>11/24/20</th>\n",
       "      <th>11/25/20</th>\n",
       "    </tr>\n",
       "  </thead>\n",
       "  <tbody>\n",
       "    <tr>\n",
       "      <th>0</th>\n",
       "      <td>0</td>\n",
       "      <td>0</td>\n",
       "      <td>0</td>\n",
       "      <td>0</td>\n",
       "      <td>0</td>\n",
       "      <td>0</td>\n",
       "      <td>0</td>\n",
       "      <td>0</td>\n",
       "      <td>0</td>\n",
       "      <td>0</td>\n",
       "      <td>...</td>\n",
       "      <td>2481</td>\n",
       "      <td>2506</td>\n",
       "      <td>2529</td>\n",
       "      <td>2554</td>\n",
       "      <td>2580</td>\n",
       "      <td>2597</td>\n",
       "      <td>2617</td>\n",
       "      <td>2634</td>\n",
       "      <td>2661</td>\n",
       "      <td>2686</td>\n",
       "    </tr>\n",
       "    <tr>\n",
       "      <th>1</th>\n",
       "      <td>0</td>\n",
       "      <td>0</td>\n",
       "      <td>0</td>\n",
       "      <td>0</td>\n",
       "      <td>0</td>\n",
       "      <td>0</td>\n",
       "      <td>0</td>\n",
       "      <td>0</td>\n",
       "      <td>0</td>\n",
       "      <td>0</td>\n",
       "      <td>...</td>\n",
       "      <td>7696</td>\n",
       "      <td>7772</td>\n",
       "      <td>7849</td>\n",
       "      <td>7933</td>\n",
       "      <td>8038</td>\n",
       "      <td>8131</td>\n",
       "      <td>8199</td>\n",
       "      <td>8269</td>\n",
       "      <td>8376</td>\n",
       "      <td>8473</td>\n",
       "    </tr>\n",
       "  </tbody>\n",
       "</table>\n",
       "<p>2 rows × 309 columns</p>\n",
       "</div>"
      ],
      "text/plain": [
       "   1/22/20  1/23/20  1/24/20  1/25/20  1/26/20  1/27/20  1/28/20  1/29/20  \\\n",
       "0        0        0        0        0        0        0        0        0   \n",
       "1        0        0        0        0        0        0        0        0   \n",
       "\n",
       "   1/30/20  1/31/20  ...  11/16/20  11/17/20  11/18/20  11/19/20  11/20/20  \\\n",
       "0        0        0  ...      2481      2506      2529      2554      2580   \n",
       "1        0        0  ...      7696      7772      7849      7933      8038   \n",
       "\n",
       "   11/21/20  11/22/20  11/23/20  11/24/20  11/25/20  \n",
       "0      2597      2617      2634      2661      2686  \n",
       "1      8131      8199      8269      8376      8473  \n",
       "\n",
       "[2 rows x 309 columns]"
      ]
     },
     "execution_count": 27,
     "metadata": {},
     "output_type": "execute_result"
    }
   ],
   "source": [
    "# part of dataframe with dates\n",
    "df_dates = df[df.columns[7:]]\n",
    "df_dates.head(2) "
   ]
  },
  {
   "cell_type": "code",
   "execution_count": 28,
   "metadata": {
    "slideshow": {
     "slide_type": "fragment"
    }
   },
   "outputs": [
    {
     "data": {
      "text/plain": [
       "65"
      ]
     },
     "execution_count": 28,
     "metadata": {},
     "output_type": "execute_result"
    }
   ],
   "source": [
    "all_days_zero = [el for el in df_dates.sum(axis=1) if el==0]\n",
    "len(all_days_zero)"
   ]
  },
  {
   "cell_type": "markdown",
   "metadata": {
    "slideshow": {
     "slide_type": "subslide"
    }
   },
   "source": [
    "#### `df.iloc[ ]`  `df.loc[ ]`    Recommended methods of indexing.   \n",
    "- .loc if you want to label index.  \n",
    "- .iloc if you want to positionally index.  \n",
    "\n",
    "Documentation on indexing and selecting data: https://pandas.pydata.org/pandas-docs/stable/user_guide/indexing.html"
   ]
  },
  {
   "cell_type": "code",
   "execution_count": 29,
   "metadata": {
    "slideshow": {
     "slide_type": "fragment"
    }
   },
   "outputs": [
    {
     "data": {
      "text/plain": [
       "0       2686\n",
       "1       8473\n",
       "2       1170\n",
       "3       1162\n",
       "4       2855\n",
       "        ... \n",
       "3335    1476\n",
       "3336    1016\n",
       "3337       0\n",
       "3338     395\n",
       "3339     386\n",
       "Name: 11/25/20, Length: 3340, dtype: int64"
      ]
     },
     "execution_count": 29,
     "metadata": {},
     "output_type": "execute_result"
    }
   ],
   "source": [
    "df_dates.loc[:, '11/25/20']"
   ]
  },
  {
   "cell_type": "code",
   "execution_count": 30,
   "metadata": {
    "slideshow": {
     "slide_type": "fragment"
    }
   },
   "outputs": [
    {
     "data": {
      "text/plain": [
       "2686"
      ]
     },
     "execution_count": 30,
     "metadata": {},
     "output_type": "execute_result"
    }
   ],
   "source": [
    "# iloc[index number, column number] : element\n",
    "df_dates.iloc[0, 308]"
   ]
  },
  {
   "cell_type": "markdown",
   "metadata": {
    "slideshow": {
     "slide_type": "subslide"
    }
   },
   "source": [
    "### Quick assginment\n",
    "- Use .loc to get the contents of the first row  \n",
    "- Use .iloc to get the contents of the last column"
   ]
  },
  {
   "cell_type": "code",
   "execution_count": 31,
   "metadata": {
    "slideshow": {
     "slide_type": "fragment"
    }
   },
   "outputs": [
    {
     "data": {
      "text/plain": [
       "1/22/20        0\n",
       "1/23/20        0\n",
       "1/24/20        0\n",
       "1/25/20        0\n",
       "1/26/20        0\n",
       "            ... \n",
       "11/21/20    2597\n",
       "11/22/20    2617\n",
       "11/23/20    2634\n",
       "11/24/20    2661\n",
       "11/25/20    2686\n",
       "Name: 0, Length: 309, dtype: int64"
      ]
     },
     "execution_count": 31,
     "metadata": {},
     "output_type": "execute_result"
    }
   ],
   "source": [
    "# loc[index label] : contents of entire row\n",
    "df_dates.loc[0]"
   ]
  },
  {
   "cell_type": "code",
   "execution_count": 32,
   "metadata": {
    "slideshow": {
     "slide_type": "fragment"
    }
   },
   "outputs": [
    {
     "data": {
      "text/plain": [
       "0       2686\n",
       "1       8473\n",
       "2       1170\n",
       "3       1162\n",
       "4       2855\n",
       "        ... \n",
       "3335    1476\n",
       "3336    1016\n",
       "3337       0\n",
       "3338     395\n",
       "3339     386\n",
       "Name: 11/25/20, Length: 3340, dtype: int64"
      ]
     },
     "execution_count": 32,
     "metadata": {},
     "output_type": "execute_result"
    }
   ],
   "source": [
    "# iloc[:, column number] : contents of entire column\n",
    "df_dates.iloc[:,308]"
   ]
  },
  {
   "cell_type": "markdown",
   "metadata": {
    "slideshow": {
     "slide_type": "subslide"
    }
   },
   "source": [
    "Let's check a couple of these locations"
   ]
  },
  {
   "cell_type": "markdown",
   "metadata": {
    "slideshow": {
     "slide_type": "subslide"
    }
   },
   "source": [
    "#### `df.at[ ]` , `df.iat[ ]`  Fast scalar value getting and setting"
   ]
  },
  {
   "cell_type": "code",
   "execution_count": 33,
   "metadata": {
    "slideshow": {
     "slide_type": "fragment"
    }
   },
   "outputs": [
    {
     "data": {
      "text/plain": [
       "32.53952745"
      ]
     },
     "execution_count": 33,
     "metadata": {},
     "output_type": "execute_result"
    }
   ],
   "source": [
    "df.at[all_days_zero[5], 'Lat']"
   ]
  },
  {
   "cell_type": "code",
   "execution_count": 34,
   "metadata": {
    "slideshow": {
     "slide_type": "fragment"
    }
   },
   "outputs": [],
   "source": [
    "df.at[all_days_zero[5], 'Lat'] = 5000"
   ]
  },
  {
   "cell_type": "code",
   "execution_count": 35,
   "metadata": {
    "slideshow": {
     "slide_type": "fragment"
    }
   },
   "outputs": [
    {
     "data": {
      "text/plain": [
       "5000.0"
      ]
     },
     "execution_count": 35,
     "metadata": {},
     "output_type": "execute_result"
    }
   ],
   "source": [
    "df.at[all_days_zero[5], 'Lat']"
   ]
  },
  {
   "cell_type": "code",
   "execution_count": 36,
   "metadata": {
    "slideshow": {
     "slide_type": "fragment"
    }
   },
   "outputs": [],
   "source": [
    "# set it to original value\n",
    "df.at[all_days_zero[5], 'Lat'] = -14.271"
   ]
  },
  {
   "cell_type": "markdown",
   "metadata": {
    "slideshow": {
     "slide_type": "subslide"
    }
   },
   "source": [
    "### Quick assginment\n",
    "Use .at[ ] to get the longitude at the fifth row"
   ]
  },
  {
   "cell_type": "code",
   "execution_count": 37,
   "metadata": {
    "slideshow": {
     "slide_type": "fragment"
    }
   },
   "outputs": [
    {
     "data": {
      "text/plain": [
       "-86.64408227"
      ]
     },
     "execution_count": 37,
     "metadata": {},
     "output_type": "execute_result"
    }
   ],
   "source": [
    "df.at[all_days_zero[5], 'Long_']"
   ]
  },
  {
   "cell_type": "markdown",
   "metadata": {
    "slideshow": {
     "slide_type": "subslide"
    }
   },
   "source": [
    "5: https://www.google.com/maps/place/14%C2%B016'15.6%22S+170%C2%B007'55.2%22W/@-14.271,-170.1330943,18z/data=!3m1!4b1!4m5!3m4!1s0x0:0x0!8m2!3d-14.271!4d-170.132\n",
    "\n",
    "25: https://www.google.com/maps/place/41%C2%B017'39.1%22N+70%C2%B005'15.9%22W/@41.2942019,-70.089936,17z/data=!3m1!4b1!4m5!3m4!1s0x0:0x0!8m2!3d41.2942019!4d-70.0877473"
   ]
  },
  {
   "cell_type": "markdown",
   "metadata": {
    "slideshow": {
     "slide_type": "fragment"
    }
   },
   "source": [
    "They seem to be places that are not habitable.  \n",
    "We can procced to remove them from the data. "
   ]
  },
  {
   "cell_type": "code",
   "execution_count": 38,
   "metadata": {
    "slideshow": {
     "slide_type": "fragment"
    }
   },
   "outputs": [],
   "source": [
    "df.drop(index=all_days_zero, inplace=True)"
   ]
  },
  {
   "cell_type": "markdown",
   "metadata": {
    "slideshow": {
     "slide_type": "slide"
    }
   },
   "source": [
    "## Duplicate entries"
   ]
  },
  {
   "cell_type": "markdown",
   "metadata": {
    "slideshow": {
     "slide_type": "fragment"
    }
   },
   "source": [
    "#### `.duplicated()`   \n",
    "https://pandas.pydata.org/pandas-docs/stable/reference/api/pandas.DataFrame.duplicated.html"
   ]
  },
  {
   "cell_type": "code",
   "execution_count": 39,
   "metadata": {
    "slideshow": {
     "slide_type": "subslide"
    }
   },
   "outputs": [
    {
     "data": {
      "text/html": [
       "<div>\n",
       "<style scoped>\n",
       "    .dataframe tbody tr th:only-of-type {\n",
       "        vertical-align: middle;\n",
       "    }\n",
       "\n",
       "    .dataframe tbody tr th {\n",
       "        vertical-align: top;\n",
       "    }\n",
       "\n",
       "    .dataframe thead th {\n",
       "        text-align: right;\n",
       "    }\n",
       "</style>\n",
       "<table border=\"1\" class=\"dataframe\">\n",
       "  <thead>\n",
       "    <tr style=\"text-align: right;\">\n",
       "      <th></th>\n",
       "      <th>a</th>\n",
       "      <th>b</th>\n",
       "    </tr>\n",
       "  </thead>\n",
       "  <tbody>\n",
       "    <tr>\n",
       "      <th>0</th>\n",
       "      <td>1</td>\n",
       "      <td>2</td>\n",
       "    </tr>\n",
       "    <tr>\n",
       "      <th>1</th>\n",
       "      <td>1</td>\n",
       "      <td>2</td>\n",
       "    </tr>\n",
       "    <tr>\n",
       "      <th>2</th>\n",
       "      <td>3</td>\n",
       "      <td>4</td>\n",
       "    </tr>\n",
       "    <tr>\n",
       "      <th>3</th>\n",
       "      <td>4</td>\n",
       "      <td>5</td>\n",
       "    </tr>\n",
       "    <tr>\n",
       "      <th>4</th>\n",
       "      <td>1</td>\n",
       "      <td>2</td>\n",
       "    </tr>\n",
       "  </tbody>\n",
       "</table>\n",
       "</div>"
      ],
      "text/plain": [
       "   a  b\n",
       "0  1  2\n",
       "1  1  2\n",
       "2  3  4\n",
       "3  4  5\n",
       "4  1  2"
      ]
     },
     "execution_count": 39,
     "metadata": {},
     "output_type": "execute_result"
    }
   ],
   "source": [
    "a = pd.DataFrame({'a': [1,1,3,4,1], \n",
    "                  'b': [2,2,4,5,2]})\n",
    "a"
   ]
  },
  {
   "cell_type": "code",
   "execution_count": 40,
   "metadata": {
    "slideshow": {
     "slide_type": "fragment"
    }
   },
   "outputs": [
    {
     "data": {
      "text/plain": [
       "0    False\n",
       "1     True\n",
       "2    False\n",
       "3    False\n",
       "4     True\n",
       "dtype: bool"
      ]
     },
     "execution_count": 40,
     "metadata": {},
     "output_type": "execute_result"
    }
   ],
   "source": [
    "ad = a.duplicated()\n",
    "ad"
   ]
  },
  {
   "cell_type": "code",
   "execution_count": 41,
   "metadata": {
    "slideshow": {
     "slide_type": "fragment"
    }
   },
   "outputs": [
    {
     "data": {
      "text/plain": [
       "2"
      ]
     },
     "execution_count": 41,
     "metadata": {},
     "output_type": "execute_result"
    }
   ],
   "source": [
    "ad.sum()"
   ]
  },
  {
   "cell_type": "markdown",
   "metadata": {
    "slideshow": {
     "slide_type": "subslide"
    }
   },
   "source": [
    "### Quick assginment\n",
    "Use .duplicated() to find if there are duplicate entries in the dataframe "
   ]
  },
  {
   "cell_type": "code",
   "execution_count": 42,
   "metadata": {
    "slideshow": {
     "slide_type": "fragment"
    }
   },
   "outputs": [
    {
     "data": {
      "text/plain": [
       "0"
      ]
     },
     "execution_count": 42,
     "metadata": {},
     "output_type": "execute_result"
    }
   ],
   "source": [
    "df.duplicated().sum()"
   ]
  },
  {
   "cell_type": "markdown",
   "metadata": {
    "slideshow": {
     "slide_type": "subslide"
    }
   },
   "source": [
    "#### `.drop_duplicates()`  \n",
    "https://pandas.pydata.org/pandas-docs/stable/reference/api/pandas.DataFrame.drop_duplicates.html"
   ]
  },
  {
   "cell_type": "code",
   "execution_count": 43,
   "metadata": {
    "slideshow": {
     "slide_type": "fragment"
    }
   },
   "outputs": [
    {
     "data": {
      "text/html": [
       "<div>\n",
       "<style scoped>\n",
       "    .dataframe tbody tr th:only-of-type {\n",
       "        vertical-align: middle;\n",
       "    }\n",
       "\n",
       "    .dataframe tbody tr th {\n",
       "        vertical-align: top;\n",
       "    }\n",
       "\n",
       "    .dataframe thead th {\n",
       "        text-align: right;\n",
       "    }\n",
       "</style>\n",
       "<table border=\"1\" class=\"dataframe\">\n",
       "  <thead>\n",
       "    <tr style=\"text-align: right;\">\n",
       "      <th></th>\n",
       "      <th>a</th>\n",
       "      <th>b</th>\n",
       "    </tr>\n",
       "  </thead>\n",
       "  <tbody>\n",
       "    <tr>\n",
       "      <th>0</th>\n",
       "      <td>1</td>\n",
       "      <td>2</td>\n",
       "    </tr>\n",
       "    <tr>\n",
       "      <th>2</th>\n",
       "      <td>3</td>\n",
       "      <td>4</td>\n",
       "    </tr>\n",
       "    <tr>\n",
       "      <th>3</th>\n",
       "      <td>4</td>\n",
       "      <td>5</td>\n",
       "    </tr>\n",
       "  </tbody>\n",
       "</table>\n",
       "</div>"
      ],
      "text/plain": [
       "   a  b\n",
       "0  1  2\n",
       "2  3  4\n",
       "3  4  5"
      ]
     },
     "execution_count": 43,
     "metadata": {},
     "output_type": "execute_result"
    }
   ],
   "source": [
    "a.drop_duplicates()"
   ]
  },
  {
   "cell_type": "markdown",
   "metadata": {
    "slideshow": {
     "slide_type": "slide"
    }
   },
   "source": [
    "### Indexing with `isin()`\n",
    "Useful for the cases when you don’t know which of the sought labels are in fact present"
   ]
  },
  {
   "cell_type": "code",
   "execution_count": 44,
   "metadata": {
    "slideshow": {
     "slide_type": "fragment"
    }
   },
   "outputs": [],
   "source": [
    "provinces = {'Admin2': ['Berlin', 'Baldwin', 'Bibb', 'Cherokee', 'Coffee', 'Hamburg']}"
   ]
  },
  {
   "cell_type": "code",
   "execution_count": 45,
   "metadata": {
    "slideshow": {
     "slide_type": "fragment"
    }
   },
   "outputs": [
    {
     "data": {
      "text/html": [
       "<div>\n",
       "<style scoped>\n",
       "    .dataframe tbody tr th:only-of-type {\n",
       "        vertical-align: middle;\n",
       "    }\n",
       "\n",
       "    .dataframe tbody tr th {\n",
       "        vertical-align: top;\n",
       "    }\n",
       "\n",
       "    .dataframe thead th {\n",
       "        text-align: right;\n",
       "    }\n",
       "</style>\n",
       "<table border=\"1\" class=\"dataframe\">\n",
       "  <thead>\n",
       "    <tr style=\"text-align: right;\">\n",
       "      <th></th>\n",
       "      <th>iso3</th>\n",
       "      <th>FIPS</th>\n",
       "      <th>Admin2</th>\n",
       "      <th>Province_State</th>\n",
       "      <th>Country_Region</th>\n",
       "      <th>Lat</th>\n",
       "      <th>Long_</th>\n",
       "      <th>1/22/20</th>\n",
       "      <th>1/23/20</th>\n",
       "      <th>1/24/20</th>\n",
       "      <th>...</th>\n",
       "      <th>11/16/20</th>\n",
       "      <th>11/17/20</th>\n",
       "      <th>11/18/20</th>\n",
       "      <th>11/19/20</th>\n",
       "      <th>11/20/20</th>\n",
       "      <th>11/21/20</th>\n",
       "      <th>11/22/20</th>\n",
       "      <th>11/23/20</th>\n",
       "      <th>11/24/20</th>\n",
       "      <th>11/25/20</th>\n",
       "    </tr>\n",
       "  </thead>\n",
       "  <tbody>\n",
       "    <tr>\n",
       "      <th>1</th>\n",
       "      <td>False</td>\n",
       "      <td>False</td>\n",
       "      <td>True</td>\n",
       "      <td>False</td>\n",
       "      <td>False</td>\n",
       "      <td>False</td>\n",
       "      <td>False</td>\n",
       "      <td>False</td>\n",
       "      <td>False</td>\n",
       "      <td>False</td>\n",
       "      <td>...</td>\n",
       "      <td>False</td>\n",
       "      <td>False</td>\n",
       "      <td>False</td>\n",
       "      <td>False</td>\n",
       "      <td>False</td>\n",
       "      <td>False</td>\n",
       "      <td>False</td>\n",
       "      <td>False</td>\n",
       "      <td>False</td>\n",
       "      <td>False</td>\n",
       "    </tr>\n",
       "    <tr>\n",
       "      <th>2</th>\n",
       "      <td>False</td>\n",
       "      <td>False</td>\n",
       "      <td>False</td>\n",
       "      <td>False</td>\n",
       "      <td>False</td>\n",
       "      <td>False</td>\n",
       "      <td>False</td>\n",
       "      <td>False</td>\n",
       "      <td>False</td>\n",
       "      <td>False</td>\n",
       "      <td>...</td>\n",
       "      <td>False</td>\n",
       "      <td>False</td>\n",
       "      <td>False</td>\n",
       "      <td>False</td>\n",
       "      <td>False</td>\n",
       "      <td>False</td>\n",
       "      <td>False</td>\n",
       "      <td>False</td>\n",
       "      <td>False</td>\n",
       "      <td>False</td>\n",
       "    </tr>\n",
       "    <tr>\n",
       "      <th>3</th>\n",
       "      <td>False</td>\n",
       "      <td>False</td>\n",
       "      <td>True</td>\n",
       "      <td>False</td>\n",
       "      <td>False</td>\n",
       "      <td>False</td>\n",
       "      <td>False</td>\n",
       "      <td>False</td>\n",
       "      <td>False</td>\n",
       "      <td>False</td>\n",
       "      <td>...</td>\n",
       "      <td>False</td>\n",
       "      <td>False</td>\n",
       "      <td>False</td>\n",
       "      <td>False</td>\n",
       "      <td>False</td>\n",
       "      <td>False</td>\n",
       "      <td>False</td>\n",
       "      <td>False</td>\n",
       "      <td>False</td>\n",
       "      <td>False</td>\n",
       "    </tr>\n",
       "    <tr>\n",
       "      <th>4</th>\n",
       "      <td>False</td>\n",
       "      <td>False</td>\n",
       "      <td>False</td>\n",
       "      <td>False</td>\n",
       "      <td>False</td>\n",
       "      <td>False</td>\n",
       "      <td>False</td>\n",
       "      <td>False</td>\n",
       "      <td>False</td>\n",
       "      <td>False</td>\n",
       "      <td>...</td>\n",
       "      <td>False</td>\n",
       "      <td>False</td>\n",
       "      <td>False</td>\n",
       "      <td>False</td>\n",
       "      <td>False</td>\n",
       "      <td>False</td>\n",
       "      <td>False</td>\n",
       "      <td>False</td>\n",
       "      <td>False</td>\n",
       "      <td>False</td>\n",
       "    </tr>\n",
       "    <tr>\n",
       "      <th>5</th>\n",
       "      <td>False</td>\n",
       "      <td>False</td>\n",
       "      <td>False</td>\n",
       "      <td>False</td>\n",
       "      <td>False</td>\n",
       "      <td>False</td>\n",
       "      <td>False</td>\n",
       "      <td>False</td>\n",
       "      <td>False</td>\n",
       "      <td>False</td>\n",
       "      <td>...</td>\n",
       "      <td>False</td>\n",
       "      <td>False</td>\n",
       "      <td>False</td>\n",
       "      <td>False</td>\n",
       "      <td>False</td>\n",
       "      <td>False</td>\n",
       "      <td>False</td>\n",
       "      <td>False</td>\n",
       "      <td>False</td>\n",
       "      <td>False</td>\n",
       "    </tr>\n",
       "    <tr>\n",
       "      <th>...</th>\n",
       "      <td>...</td>\n",
       "      <td>...</td>\n",
       "      <td>...</td>\n",
       "      <td>...</td>\n",
       "      <td>...</td>\n",
       "      <td>...</td>\n",
       "      <td>...</td>\n",
       "      <td>...</td>\n",
       "      <td>...</td>\n",
       "      <td>...</td>\n",
       "      <td>...</td>\n",
       "      <td>...</td>\n",
       "      <td>...</td>\n",
       "      <td>...</td>\n",
       "      <td>...</td>\n",
       "      <td>...</td>\n",
       "      <td>...</td>\n",
       "      <td>...</td>\n",
       "      <td>...</td>\n",
       "      <td>...</td>\n",
       "      <td>...</td>\n",
       "    </tr>\n",
       "    <tr>\n",
       "      <th>3335</th>\n",
       "      <td>False</td>\n",
       "      <td>False</td>\n",
       "      <td>False</td>\n",
       "      <td>False</td>\n",
       "      <td>False</td>\n",
       "      <td>False</td>\n",
       "      <td>False</td>\n",
       "      <td>False</td>\n",
       "      <td>False</td>\n",
       "      <td>False</td>\n",
       "      <td>...</td>\n",
       "      <td>False</td>\n",
       "      <td>False</td>\n",
       "      <td>False</td>\n",
       "      <td>False</td>\n",
       "      <td>False</td>\n",
       "      <td>False</td>\n",
       "      <td>False</td>\n",
       "      <td>False</td>\n",
       "      <td>False</td>\n",
       "      <td>False</td>\n",
       "    </tr>\n",
       "    <tr>\n",
       "      <th>3336</th>\n",
       "      <td>False</td>\n",
       "      <td>False</td>\n",
       "      <td>False</td>\n",
       "      <td>False</td>\n",
       "      <td>False</td>\n",
       "      <td>False</td>\n",
       "      <td>False</td>\n",
       "      <td>False</td>\n",
       "      <td>False</td>\n",
       "      <td>False</td>\n",
       "      <td>...</td>\n",
       "      <td>False</td>\n",
       "      <td>False</td>\n",
       "      <td>False</td>\n",
       "      <td>False</td>\n",
       "      <td>False</td>\n",
       "      <td>False</td>\n",
       "      <td>False</td>\n",
       "      <td>False</td>\n",
       "      <td>False</td>\n",
       "      <td>False</td>\n",
       "    </tr>\n",
       "    <tr>\n",
       "      <th>3337</th>\n",
       "      <td>False</td>\n",
       "      <td>False</td>\n",
       "      <td>False</td>\n",
       "      <td>False</td>\n",
       "      <td>False</td>\n",
       "      <td>False</td>\n",
       "      <td>False</td>\n",
       "      <td>False</td>\n",
       "      <td>False</td>\n",
       "      <td>False</td>\n",
       "      <td>...</td>\n",
       "      <td>False</td>\n",
       "      <td>False</td>\n",
       "      <td>False</td>\n",
       "      <td>False</td>\n",
       "      <td>False</td>\n",
       "      <td>False</td>\n",
       "      <td>False</td>\n",
       "      <td>False</td>\n",
       "      <td>False</td>\n",
       "      <td>False</td>\n",
       "    </tr>\n",
       "    <tr>\n",
       "      <th>3338</th>\n",
       "      <td>False</td>\n",
       "      <td>False</td>\n",
       "      <td>False</td>\n",
       "      <td>False</td>\n",
       "      <td>False</td>\n",
       "      <td>False</td>\n",
       "      <td>False</td>\n",
       "      <td>False</td>\n",
       "      <td>False</td>\n",
       "      <td>False</td>\n",
       "      <td>...</td>\n",
       "      <td>False</td>\n",
       "      <td>False</td>\n",
       "      <td>False</td>\n",
       "      <td>False</td>\n",
       "      <td>False</td>\n",
       "      <td>False</td>\n",
       "      <td>False</td>\n",
       "      <td>False</td>\n",
       "      <td>False</td>\n",
       "      <td>False</td>\n",
       "    </tr>\n",
       "    <tr>\n",
       "      <th>3339</th>\n",
       "      <td>False</td>\n",
       "      <td>False</td>\n",
       "      <td>False</td>\n",
       "      <td>False</td>\n",
       "      <td>False</td>\n",
       "      <td>False</td>\n",
       "      <td>False</td>\n",
       "      <td>False</td>\n",
       "      <td>False</td>\n",
       "      <td>False</td>\n",
       "      <td>...</td>\n",
       "      <td>False</td>\n",
       "      <td>False</td>\n",
       "      <td>False</td>\n",
       "      <td>False</td>\n",
       "      <td>False</td>\n",
       "      <td>False</td>\n",
       "      <td>False</td>\n",
       "      <td>False</td>\n",
       "      <td>False</td>\n",
       "      <td>False</td>\n",
       "    </tr>\n",
       "  </tbody>\n",
       "</table>\n",
       "<p>3339 rows × 316 columns</p>\n",
       "</div>"
      ],
      "text/plain": [
       "       iso3   FIPS  Admin2  Province_State  Country_Region    Lat  Long_  \\\n",
       "1     False  False    True           False           False  False  False   \n",
       "2     False  False   False           False           False  False  False   \n",
       "3     False  False    True           False           False  False  False   \n",
       "4     False  False   False           False           False  False  False   \n",
       "5     False  False   False           False           False  False  False   \n",
       "...     ...    ...     ...             ...             ...    ...    ...   \n",
       "3335  False  False   False           False           False  False  False   \n",
       "3336  False  False   False           False           False  False  False   \n",
       "3337  False  False   False           False           False  False  False   \n",
       "3338  False  False   False           False           False  False  False   \n",
       "3339  False  False   False           False           False  False  False   \n",
       "\n",
       "      1/22/20  1/23/20  1/24/20  ...  11/16/20  11/17/20  11/18/20  11/19/20  \\\n",
       "1       False    False    False  ...     False     False     False     False   \n",
       "2       False    False    False  ...     False     False     False     False   \n",
       "3       False    False    False  ...     False     False     False     False   \n",
       "4       False    False    False  ...     False     False     False     False   \n",
       "5       False    False    False  ...     False     False     False     False   \n",
       "...       ...      ...      ...  ...       ...       ...       ...       ...   \n",
       "3335    False    False    False  ...     False     False     False     False   \n",
       "3336    False    False    False  ...     False     False     False     False   \n",
       "3337    False    False    False  ...     False     False     False     False   \n",
       "3338    False    False    False  ...     False     False     False     False   \n",
       "3339    False    False    False  ...     False     False     False     False   \n",
       "\n",
       "      11/20/20  11/21/20  11/22/20  11/23/20  11/24/20  11/25/20  \n",
       "1        False     False     False     False     False     False  \n",
       "2        False     False     False     False     False     False  \n",
       "3        False     False     False     False     False     False  \n",
       "4        False     False     False     False     False     False  \n",
       "5        False     False     False     False     False     False  \n",
       "...        ...       ...       ...       ...       ...       ...  \n",
       "3335     False     False     False     False     False     False  \n",
       "3336     False     False     False     False     False     False  \n",
       "3337     False     False     False     False     False     False  \n",
       "3338     False     False     False     False     False     False  \n",
       "3339     False     False     False     False     False     False  \n",
       "\n",
       "[3339 rows x 316 columns]"
      ]
     },
     "execution_count": 45,
     "metadata": {},
     "output_type": "execute_result"
    }
   ],
   "source": [
    "df.isin(provinces)"
   ]
  },
  {
   "cell_type": "code",
   "execution_count": 46,
   "metadata": {
    "slideshow": {
     "slide_type": "fragment"
    }
   },
   "outputs": [
    {
     "data": {
      "text/html": [
       "<div>\n",
       "<style scoped>\n",
       "    .dataframe tbody tr th:only-of-type {\n",
       "        vertical-align: middle;\n",
       "    }\n",
       "\n",
       "    .dataframe tbody tr th {\n",
       "        vertical-align: top;\n",
       "    }\n",
       "\n",
       "    .dataframe thead th {\n",
       "        text-align: right;\n",
       "    }\n",
       "</style>\n",
       "<table border=\"1\" class=\"dataframe\">\n",
       "  <thead>\n",
       "    <tr style=\"text-align: right;\">\n",
       "      <th></th>\n",
       "      <th>iso3</th>\n",
       "      <th>FIPS</th>\n",
       "      <th>Admin2</th>\n",
       "      <th>Province_State</th>\n",
       "      <th>Country_Region</th>\n",
       "      <th>Lat</th>\n",
       "      <th>Long_</th>\n",
       "      <th>1/22/20</th>\n",
       "      <th>1/23/20</th>\n",
       "      <th>1/24/20</th>\n",
       "      <th>...</th>\n",
       "      <th>11/16/20</th>\n",
       "      <th>11/17/20</th>\n",
       "      <th>11/18/20</th>\n",
       "      <th>11/19/20</th>\n",
       "      <th>11/20/20</th>\n",
       "      <th>11/21/20</th>\n",
       "      <th>11/22/20</th>\n",
       "      <th>11/23/20</th>\n",
       "      <th>11/24/20</th>\n",
       "      <th>11/25/20</th>\n",
       "    </tr>\n",
       "  </thead>\n",
       "  <tbody>\n",
       "    <tr>\n",
       "      <th>1</th>\n",
       "      <td>USA</td>\n",
       "      <td>1003.0</td>\n",
       "      <td>Baldwin</td>\n",
       "      <td>Alabama</td>\n",
       "      <td>US</td>\n",
       "      <td>30.727750</td>\n",
       "      <td>-87.722071</td>\n",
       "      <td>0</td>\n",
       "      <td>0</td>\n",
       "      <td>0</td>\n",
       "      <td>...</td>\n",
       "      <td>7696</td>\n",
       "      <td>7772</td>\n",
       "      <td>7849</td>\n",
       "      <td>7933</td>\n",
       "      <td>8038</td>\n",
       "      <td>8131</td>\n",
       "      <td>8199</td>\n",
       "      <td>8269</td>\n",
       "      <td>8376</td>\n",
       "      <td>8473</td>\n",
       "    </tr>\n",
       "    <tr>\n",
       "      <th>3</th>\n",
       "      <td>USA</td>\n",
       "      <td>1007.0</td>\n",
       "      <td>Bibb</td>\n",
       "      <td>Alabama</td>\n",
       "      <td>US</td>\n",
       "      <td>32.996421</td>\n",
       "      <td>-87.125115</td>\n",
       "      <td>0</td>\n",
       "      <td>0</td>\n",
       "      <td>0</td>\n",
       "      <td>...</td>\n",
       "      <td>993</td>\n",
       "      <td>1004</td>\n",
       "      <td>1008</td>\n",
       "      <td>1011</td>\n",
       "      <td>1024</td>\n",
       "      <td>1036</td>\n",
       "      <td>1136</td>\n",
       "      <td>1142</td>\n",
       "      <td>1157</td>\n",
       "      <td>1162</td>\n",
       "    </tr>\n",
       "    <tr>\n",
       "      <th>9</th>\n",
       "      <td>USA</td>\n",
       "      <td>1019.0</td>\n",
       "      <td>Cherokee</td>\n",
       "      <td>Alabama</td>\n",
       "      <td>US</td>\n",
       "      <td>34.178060</td>\n",
       "      <td>-85.606390</td>\n",
       "      <td>0</td>\n",
       "      <td>0</td>\n",
       "      <td>0</td>\n",
       "      <td>...</td>\n",
       "      <td>912</td>\n",
       "      <td>919</td>\n",
       "      <td>935</td>\n",
       "      <td>956</td>\n",
       "      <td>959</td>\n",
       "      <td>979</td>\n",
       "      <td>985</td>\n",
       "      <td>989</td>\n",
       "      <td>996</td>\n",
       "      <td>1008</td>\n",
       "    </tr>\n",
       "    <tr>\n",
       "      <th>15</th>\n",
       "      <td>USA</td>\n",
       "      <td>1031.0</td>\n",
       "      <td>Coffee</td>\n",
       "      <td>Alabama</td>\n",
       "      <td>US</td>\n",
       "      <td>31.399328</td>\n",
       "      <td>-85.989010</td>\n",
       "      <td>0</td>\n",
       "      <td>0</td>\n",
       "      <td>0</td>\n",
       "      <td>...</td>\n",
       "      <td>2180</td>\n",
       "      <td>2195</td>\n",
       "      <td>2223</td>\n",
       "      <td>2246</td>\n",
       "      <td>2265</td>\n",
       "      <td>2281</td>\n",
       "      <td>2303</td>\n",
       "      <td>2334</td>\n",
       "      <td>2366</td>\n",
       "      <td>2397</td>\n",
       "    </tr>\n",
       "    <tr>\n",
       "      <th>413</th>\n",
       "      <td>USA</td>\n",
       "      <td>13009.0</td>\n",
       "      <td>Baldwin</td>\n",
       "      <td>Georgia</td>\n",
       "      <td>US</td>\n",
       "      <td>33.068823</td>\n",
       "      <td>-83.247017</td>\n",
       "      <td>0</td>\n",
       "      <td>0</td>\n",
       "      <td>0</td>\n",
       "      <td>...</td>\n",
       "      <td>2533</td>\n",
       "      <td>2559</td>\n",
       "      <td>2573</td>\n",
       "      <td>2578</td>\n",
       "      <td>2590</td>\n",
       "      <td>2595</td>\n",
       "      <td>2598</td>\n",
       "      <td>2605</td>\n",
       "      <td>2617</td>\n",
       "      <td>2633</td>\n",
       "    </tr>\n",
       "    <tr>\n",
       "      <th>419</th>\n",
       "      <td>USA</td>\n",
       "      <td>13021.0</td>\n",
       "      <td>Bibb</td>\n",
       "      <td>Georgia</td>\n",
       "      <td>US</td>\n",
       "      <td>32.809042</td>\n",
       "      <td>-83.704892</td>\n",
       "      <td>0</td>\n",
       "      <td>0</td>\n",
       "      <td>0</td>\n",
       "      <td>...</td>\n",
       "      <td>7231</td>\n",
       "      <td>7255</td>\n",
       "      <td>7304</td>\n",
       "      <td>7324</td>\n",
       "      <td>7361</td>\n",
       "      <td>7392</td>\n",
       "      <td>7403</td>\n",
       "      <td>7423</td>\n",
       "      <td>7466</td>\n",
       "      <td>7487</td>\n",
       "    </tr>\n",
       "    <tr>\n",
       "      <th>436</th>\n",
       "      <td>USA</td>\n",
       "      <td>13057.0</td>\n",
       "      <td>Cherokee</td>\n",
       "      <td>Georgia</td>\n",
       "      <td>US</td>\n",
       "      <td>34.243940</td>\n",
       "      <td>-84.474319</td>\n",
       "      <td>0</td>\n",
       "      <td>0</td>\n",
       "      <td>0</td>\n",
       "      <td>...</td>\n",
       "      <td>9144</td>\n",
       "      <td>9303</td>\n",
       "      <td>9401</td>\n",
       "      <td>9515</td>\n",
       "      <td>9602</td>\n",
       "      <td>9895</td>\n",
       "      <td>10010</td>\n",
       "      <td>10047</td>\n",
       "      <td>10184</td>\n",
       "      <td>10274</td>\n",
       "    </tr>\n",
       "    <tr>\n",
       "      <th>442</th>\n",
       "      <td>USA</td>\n",
       "      <td>13069.0</td>\n",
       "      <td>Coffee</td>\n",
       "      <td>Georgia</td>\n",
       "      <td>US</td>\n",
       "      <td>31.548930</td>\n",
       "      <td>-82.854921</td>\n",
       "      <td>0</td>\n",
       "      <td>0</td>\n",
       "      <td>0</td>\n",
       "      <td>...</td>\n",
       "      <td>2713</td>\n",
       "      <td>2741</td>\n",
       "      <td>2758</td>\n",
       "      <td>2780</td>\n",
       "      <td>2802</td>\n",
       "      <td>2830</td>\n",
       "      <td>2834</td>\n",
       "      <td>2839</td>\n",
       "      <td>2859</td>\n",
       "      <td>2884</td>\n",
       "    </tr>\n",
       "    <tr>\n",
       "      <th>840</th>\n",
       "      <td>USA</td>\n",
       "      <td>19035.0</td>\n",
       "      <td>Cherokee</td>\n",
       "      <td>Iowa</td>\n",
       "      <td>US</td>\n",
       "      <td>42.735389</td>\n",
       "      <td>-95.623894</td>\n",
       "      <td>0</td>\n",
       "      <td>0</td>\n",
       "      <td>0</td>\n",
       "      <td>...</td>\n",
       "      <td>650</td>\n",
       "      <td>671</td>\n",
       "      <td>680</td>\n",
       "      <td>696</td>\n",
       "      <td>721</td>\n",
       "      <td>732</td>\n",
       "      <td>748</td>\n",
       "      <td>762</td>\n",
       "      <td>781</td>\n",
       "      <td>798</td>\n",
       "    </tr>\n",
       "    <tr>\n",
       "      <th>934</th>\n",
       "      <td>USA</td>\n",
       "      <td>20021.0</td>\n",
       "      <td>Cherokee</td>\n",
       "      <td>Kansas</td>\n",
       "      <td>US</td>\n",
       "      <td>37.169285</td>\n",
       "      <td>-94.846290</td>\n",
       "      <td>0</td>\n",
       "      <td>0</td>\n",
       "      <td>0</td>\n",
       "      <td>...</td>\n",
       "      <td>931</td>\n",
       "      <td>931</td>\n",
       "      <td>999</td>\n",
       "      <td>999</td>\n",
       "      <td>1023</td>\n",
       "      <td>1023</td>\n",
       "      <td>1042</td>\n",
       "      <td>1070</td>\n",
       "      <td>1070</td>\n",
       "      <td>1093</td>\n",
       "    </tr>\n",
       "    <tr>\n",
       "      <th>1983</th>\n",
       "      <td>USA</td>\n",
       "      <td>37039.0</td>\n",
       "      <td>Cherokee</td>\n",
       "      <td>North Carolina</td>\n",
       "      <td>US</td>\n",
       "      <td>35.134926</td>\n",
       "      <td>-84.059709</td>\n",
       "      <td>0</td>\n",
       "      <td>0</td>\n",
       "      <td>0</td>\n",
       "      <td>...</td>\n",
       "      <td>858</td>\n",
       "      <td>865</td>\n",
       "      <td>870</td>\n",
       "      <td>877</td>\n",
       "      <td>887</td>\n",
       "      <td>895</td>\n",
       "      <td>897</td>\n",
       "      <td>903</td>\n",
       "      <td>907</td>\n",
       "      <td>909</td>\n",
       "    </tr>\n",
       "    <tr>\n",
       "      <th>2222</th>\n",
       "      <td>USA</td>\n",
       "      <td>40021.0</td>\n",
       "      <td>Cherokee</td>\n",
       "      <td>Oklahoma</td>\n",
       "      <td>US</td>\n",
       "      <td>35.906928</td>\n",
       "      <td>-94.999809</td>\n",
       "      <td>0</td>\n",
       "      <td>0</td>\n",
       "      <td>0</td>\n",
       "      <td>...</td>\n",
       "      <td>1831</td>\n",
       "      <td>1844</td>\n",
       "      <td>1856</td>\n",
       "      <td>1909</td>\n",
       "      <td>1954</td>\n",
       "      <td>2013</td>\n",
       "      <td>2057</td>\n",
       "      <td>2104</td>\n",
       "      <td>2129</td>\n",
       "      <td>2168</td>\n",
       "    </tr>\n",
       "    <tr>\n",
       "      <th>2495</th>\n",
       "      <td>USA</td>\n",
       "      <td>45021.0</td>\n",
       "      <td>Cherokee</td>\n",
       "      <td>South Carolina</td>\n",
       "      <td>US</td>\n",
       "      <td>35.051223</td>\n",
       "      <td>-81.618286</td>\n",
       "      <td>0</td>\n",
       "      <td>0</td>\n",
       "      <td>0</td>\n",
       "      <td>...</td>\n",
       "      <td>1852</td>\n",
       "      <td>1863</td>\n",
       "      <td>1878</td>\n",
       "      <td>1906</td>\n",
       "      <td>1942</td>\n",
       "      <td>1963</td>\n",
       "      <td>1987</td>\n",
       "      <td>2011</td>\n",
       "      <td>2019</td>\n",
       "      <td>2030</td>\n",
       "    </tr>\n",
       "    <tr>\n",
       "      <th>2616</th>\n",
       "      <td>USA</td>\n",
       "      <td>47031.0</td>\n",
       "      <td>Coffee</td>\n",
       "      <td>Tennessee</td>\n",
       "      <td>US</td>\n",
       "      <td>35.490907</td>\n",
       "      <td>-86.073118</td>\n",
       "      <td>0</td>\n",
       "      <td>0</td>\n",
       "      <td>0</td>\n",
       "      <td>...</td>\n",
       "      <td>2411</td>\n",
       "      <td>2451</td>\n",
       "      <td>2501</td>\n",
       "      <td>2518</td>\n",
       "      <td>2547</td>\n",
       "      <td>2582</td>\n",
       "      <td>2608</td>\n",
       "      <td>2630</td>\n",
       "      <td>2639</td>\n",
       "      <td>2681</td>\n",
       "    </tr>\n",
       "    <tr>\n",
       "      <th>2734</th>\n",
       "      <td>USA</td>\n",
       "      <td>48073.0</td>\n",
       "      <td>Cherokee</td>\n",
       "      <td>Texas</td>\n",
       "      <td>US</td>\n",
       "      <td>31.837258</td>\n",
       "      <td>-95.165599</td>\n",
       "      <td>0</td>\n",
       "      <td>0</td>\n",
       "      <td>0</td>\n",
       "      <td>...</td>\n",
       "      <td>1690</td>\n",
       "      <td>1690</td>\n",
       "      <td>1690</td>\n",
       "      <td>1690</td>\n",
       "      <td>1717</td>\n",
       "      <td>1726</td>\n",
       "      <td>1726</td>\n",
       "      <td>1726</td>\n",
       "      <td>1744</td>\n",
       "      <td>1750</td>\n",
       "    </tr>\n",
       "  </tbody>\n",
       "</table>\n",
       "<p>15 rows × 316 columns</p>\n",
       "</div>"
      ],
      "text/plain": [
       "     iso3     FIPS    Admin2  Province_State Country_Region        Lat  \\\n",
       "1     USA   1003.0   Baldwin         Alabama             US  30.727750   \n",
       "3     USA   1007.0      Bibb         Alabama             US  32.996421   \n",
       "9     USA   1019.0  Cherokee         Alabama             US  34.178060   \n",
       "15    USA   1031.0    Coffee         Alabama             US  31.399328   \n",
       "413   USA  13009.0   Baldwin         Georgia             US  33.068823   \n",
       "419   USA  13021.0      Bibb         Georgia             US  32.809042   \n",
       "436   USA  13057.0  Cherokee         Georgia             US  34.243940   \n",
       "442   USA  13069.0    Coffee         Georgia             US  31.548930   \n",
       "840   USA  19035.0  Cherokee            Iowa             US  42.735389   \n",
       "934   USA  20021.0  Cherokee          Kansas             US  37.169285   \n",
       "1983  USA  37039.0  Cherokee  North Carolina             US  35.134926   \n",
       "2222  USA  40021.0  Cherokee        Oklahoma             US  35.906928   \n",
       "2495  USA  45021.0  Cherokee  South Carolina             US  35.051223   \n",
       "2616  USA  47031.0    Coffee       Tennessee             US  35.490907   \n",
       "2734  USA  48073.0  Cherokee           Texas             US  31.837258   \n",
       "\n",
       "          Long_  1/22/20  1/23/20  1/24/20  ...  11/16/20  11/17/20  11/18/20  \\\n",
       "1    -87.722071        0        0        0  ...      7696      7772      7849   \n",
       "3    -87.125115        0        0        0  ...       993      1004      1008   \n",
       "9    -85.606390        0        0        0  ...       912       919       935   \n",
       "15   -85.989010        0        0        0  ...      2180      2195      2223   \n",
       "413  -83.247017        0        0        0  ...      2533      2559      2573   \n",
       "419  -83.704892        0        0        0  ...      7231      7255      7304   \n",
       "436  -84.474319        0        0        0  ...      9144      9303      9401   \n",
       "442  -82.854921        0        0        0  ...      2713      2741      2758   \n",
       "840  -95.623894        0        0        0  ...       650       671       680   \n",
       "934  -94.846290        0        0        0  ...       931       931       999   \n",
       "1983 -84.059709        0        0        0  ...       858       865       870   \n",
       "2222 -94.999809        0        0        0  ...      1831      1844      1856   \n",
       "2495 -81.618286        0        0        0  ...      1852      1863      1878   \n",
       "2616 -86.073118        0        0        0  ...      2411      2451      2501   \n",
       "2734 -95.165599        0        0        0  ...      1690      1690      1690   \n",
       "\n",
       "      11/19/20  11/20/20  11/21/20  11/22/20  11/23/20  11/24/20  11/25/20  \n",
       "1         7933      8038      8131      8199      8269      8376      8473  \n",
       "3         1011      1024      1036      1136      1142      1157      1162  \n",
       "9          956       959       979       985       989       996      1008  \n",
       "15        2246      2265      2281      2303      2334      2366      2397  \n",
       "413       2578      2590      2595      2598      2605      2617      2633  \n",
       "419       7324      7361      7392      7403      7423      7466      7487  \n",
       "436       9515      9602      9895     10010     10047     10184     10274  \n",
       "442       2780      2802      2830      2834      2839      2859      2884  \n",
       "840        696       721       732       748       762       781       798  \n",
       "934        999      1023      1023      1042      1070      1070      1093  \n",
       "1983       877       887       895       897       903       907       909  \n",
       "2222      1909      1954      2013      2057      2104      2129      2168  \n",
       "2495      1906      1942      1963      1987      2011      2019      2030  \n",
       "2616      2518      2547      2582      2608      2630      2639      2681  \n",
       "2734      1690      1717      1726      1726      1726      1744      1750  \n",
       "\n",
       "[15 rows x 316 columns]"
      ]
     },
     "execution_count": 46,
     "metadata": {},
     "output_type": "execute_result"
    }
   ],
   "source": [
    "df[df['Admin2'].isin(['Berlin', 'Hamburg', 'Baldwin', 'Bibb', 'Cherokee', 'Coffee'])]"
   ]
  },
  {
   "cell_type": "markdown",
   "metadata": {
    "slideshow": {
     "slide_type": "slide"
    }
   },
   "source": [
    "## Chained indexing: to be avoided\n",
    "especially when you're in the data transformation part of your analysis. "
   ]
  },
  {
   "cell_type": "code",
   "execution_count": 47,
   "metadata": {
    "slideshow": {
     "slide_type": "subslide"
    }
   },
   "outputs": [
    {
     "data": {
      "text/html": [
       "<div>\n",
       "<style scoped>\n",
       "    .dataframe tbody tr th:only-of-type {\n",
       "        vertical-align: middle;\n",
       "    }\n",
       "\n",
       "    .dataframe tbody tr th {\n",
       "        vertical-align: top;\n",
       "    }\n",
       "\n",
       "    .dataframe thead th {\n",
       "        text-align: right;\n",
       "    }\n",
       "</style>\n",
       "<table border=\"1\" class=\"dataframe\">\n",
       "  <thead>\n",
       "    <tr style=\"text-align: right;\">\n",
       "      <th></th>\n",
       "      <th>a</th>\n",
       "      <th>b</th>\n",
       "    </tr>\n",
       "  </thead>\n",
       "  <tbody>\n",
       "    <tr>\n",
       "      <th>0</th>\n",
       "      <td>1</td>\n",
       "      <td>5</td>\n",
       "    </tr>\n",
       "    <tr>\n",
       "      <th>1</th>\n",
       "      <td>b</td>\n",
       "      <td>c</td>\n",
       "    </tr>\n",
       "    <tr>\n",
       "      <th>2</th>\n",
       "      <td>2</td>\n",
       "      <td>2</td>\n",
       "    </tr>\n",
       "    <tr>\n",
       "      <th>3</th>\n",
       "      <td>0.5</td>\n",
       "      <td>1.3</td>\n",
       "    </tr>\n",
       "  </tbody>\n",
       "</table>\n",
       "</div>"
      ],
      "text/plain": [
       "     a    b\n",
       "0    1    5\n",
       "1    b    c\n",
       "2    2    2\n",
       "3  0.5  1.3"
      ]
     },
     "execution_count": 47,
     "metadata": {},
     "output_type": "execute_result"
    }
   ],
   "source": [
    "b = pd.DataFrame({'a':[1, 'b', 2, 0.5], 'b':[5, 'c', 2, 1.3]})\n",
    "b"
   ]
  },
  {
   "cell_type": "code",
   "execution_count": 48,
   "metadata": {
    "slideshow": {
     "slide_type": "fragment"
    }
   },
   "outputs": [
    {
     "data": {
      "text/plain": [
       "5"
      ]
     },
     "execution_count": 48,
     "metadata": {},
     "output_type": "execute_result"
    }
   ],
   "source": [
    "b.at[0, 'b']"
   ]
  },
  {
   "cell_type": "code",
   "execution_count": 49,
   "metadata": {
    "slideshow": {
     "slide_type": "fragment"
    }
   },
   "outputs": [
    {
     "data": {
      "text/plain": [
       "5"
      ]
     },
     "execution_count": 49,
     "metadata": {},
     "output_type": "execute_result"
    }
   ],
   "source": [
    "# this is a simple example of chained indexing\n",
    "b['b'][0]"
   ]
  },
  {
   "cell_type": "markdown",
   "metadata": {
    "slideshow": {
     "slide_type": "fragment"
    }
   },
   "source": [
    "We can't know if it returns a copy or a reference. So you can't be sure if your change will be applied to the dataframe"
   ]
  },
  {
   "cell_type": "code",
   "execution_count": 50,
   "metadata": {
    "slideshow": {
     "slide_type": "subslide"
    }
   },
   "outputs": [],
   "source": [
    "b['b'][0] = 'b'"
   ]
  },
  {
   "cell_type": "code",
   "execution_count": 51,
   "metadata": {
    "slideshow": {
     "slide_type": "fragment"
    }
   },
   "outputs": [
    {
     "data": {
      "text/html": [
       "<div>\n",
       "<style scoped>\n",
       "    .dataframe tbody tr th:only-of-type {\n",
       "        vertical-align: middle;\n",
       "    }\n",
       "\n",
       "    .dataframe tbody tr th {\n",
       "        vertical-align: top;\n",
       "    }\n",
       "\n",
       "    .dataframe thead th {\n",
       "        text-align: right;\n",
       "    }\n",
       "</style>\n",
       "<table border=\"1\" class=\"dataframe\">\n",
       "  <thead>\n",
       "    <tr style=\"text-align: right;\">\n",
       "      <th></th>\n",
       "      <th>a</th>\n",
       "      <th>b</th>\n",
       "    </tr>\n",
       "  </thead>\n",
       "  <tbody>\n",
       "    <tr>\n",
       "      <th>0</th>\n",
       "      <td>1</td>\n",
       "      <td>b</td>\n",
       "    </tr>\n",
       "    <tr>\n",
       "      <th>1</th>\n",
       "      <td>b</td>\n",
       "      <td>c</td>\n",
       "    </tr>\n",
       "    <tr>\n",
       "      <th>2</th>\n",
       "      <td>2</td>\n",
       "      <td>2</td>\n",
       "    </tr>\n",
       "    <tr>\n",
       "      <th>3</th>\n",
       "      <td>0.5</td>\n",
       "      <td>1.3</td>\n",
       "    </tr>\n",
       "  </tbody>\n",
       "</table>\n",
       "</div>"
      ],
      "text/plain": [
       "     a    b\n",
       "0    1    b\n",
       "1    b    c\n",
       "2    2    2\n",
       "3  0.5  1.3"
      ]
     },
     "execution_count": 51,
     "metadata": {},
     "output_type": "execute_result"
    }
   ],
   "source": [
    "b"
   ]
  },
  {
   "cell_type": "markdown",
   "metadata": {
    "slideshow": {
     "slide_type": "fragment"
    }
   },
   "source": [
    "The order and type of the indexing operation partially determine whether the result is a slice into the original object, or a copy of the slice"
   ]
  },
  {
   "cell_type": "markdown",
   "metadata": {
    "slideshow": {
     "slide_type": "fragment"
    }
   },
   "source": [
    "Pandas has a ` SettingWithCopyWarning` . They can be false positive."
   ]
  },
  {
   "cell_type": "code",
   "execution_count": 52,
   "metadata": {
    "slideshow": {
     "slide_type": "skip"
    }
   },
   "outputs": [
    {
     "data": {
      "text/html": [
       "<div>\n",
       "<style scoped>\n",
       "    .dataframe tbody tr th:only-of-type {\n",
       "        vertical-align: middle;\n",
       "    }\n",
       "\n",
       "    .dataframe tbody tr th {\n",
       "        vertical-align: top;\n",
       "    }\n",
       "\n",
       "    .dataframe thead th {\n",
       "        text-align: right;\n",
       "    }\n",
       "</style>\n",
       "<table border=\"1\" class=\"dataframe\">\n",
       "  <thead>\n",
       "    <tr style=\"text-align: right;\">\n",
       "      <th></th>\n",
       "      <th>iso3</th>\n",
       "      <th>FIPS</th>\n",
       "      <th>Admin2</th>\n",
       "      <th>Province_State</th>\n",
       "      <th>Country_Region</th>\n",
       "      <th>Lat</th>\n",
       "      <th>Long_</th>\n",
       "      <th>1/22/20</th>\n",
       "      <th>1/23/20</th>\n",
       "      <th>1/24/20</th>\n",
       "      <th>...</th>\n",
       "      <th>11/16/20</th>\n",
       "      <th>11/17/20</th>\n",
       "      <th>11/18/20</th>\n",
       "      <th>11/19/20</th>\n",
       "      <th>11/20/20</th>\n",
       "      <th>11/21/20</th>\n",
       "      <th>11/22/20</th>\n",
       "      <th>11/23/20</th>\n",
       "      <th>11/24/20</th>\n",
       "      <th>11/25/20</th>\n",
       "    </tr>\n",
       "  </thead>\n",
       "  <tbody>\n",
       "    <tr>\n",
       "      <th>1</th>\n",
       "      <td>USA</td>\n",
       "      <td>1003.0</td>\n",
       "      <td>Baldwin</td>\n",
       "      <td>Alabama</td>\n",
       "      <td>US</td>\n",
       "      <td>30.727750</td>\n",
       "      <td>-87.722071</td>\n",
       "      <td>0</td>\n",
       "      <td>0</td>\n",
       "      <td>0</td>\n",
       "      <td>...</td>\n",
       "      <td>7696</td>\n",
       "      <td>7772</td>\n",
       "      <td>7849</td>\n",
       "      <td>7933</td>\n",
       "      <td>8038</td>\n",
       "      <td>8131</td>\n",
       "      <td>8199</td>\n",
       "      <td>8269</td>\n",
       "      <td>8376</td>\n",
       "      <td>8473</td>\n",
       "    </tr>\n",
       "    <tr>\n",
       "      <th>2</th>\n",
       "      <td>USA</td>\n",
       "      <td>1005.0</td>\n",
       "      <td>Barbour</td>\n",
       "      <td>Alabama</td>\n",
       "      <td>US</td>\n",
       "      <td>31.868263</td>\n",
       "      <td>-85.387129</td>\n",
       "      <td>0</td>\n",
       "      <td>0</td>\n",
       "      <td>0</td>\n",
       "      <td>...</td>\n",
       "      <td>1130</td>\n",
       "      <td>1134</td>\n",
       "      <td>1137</td>\n",
       "      <td>1145</td>\n",
       "      <td>1151</td>\n",
       "      <td>1157</td>\n",
       "      <td>1160</td>\n",
       "      <td>1161</td>\n",
       "      <td>1167</td>\n",
       "      <td>1170</td>\n",
       "    </tr>\n",
       "    <tr>\n",
       "      <th>3</th>\n",
       "      <td>USA</td>\n",
       "      <td>1007.0</td>\n",
       "      <td>Bibb</td>\n",
       "      <td>Alabama</td>\n",
       "      <td>US</td>\n",
       "      <td>32.996421</td>\n",
       "      <td>-87.125115</td>\n",
       "      <td>0</td>\n",
       "      <td>0</td>\n",
       "      <td>0</td>\n",
       "      <td>...</td>\n",
       "      <td>993</td>\n",
       "      <td>1004</td>\n",
       "      <td>1008</td>\n",
       "      <td>1011</td>\n",
       "      <td>1024</td>\n",
       "      <td>1036</td>\n",
       "      <td>1136</td>\n",
       "      <td>1142</td>\n",
       "      <td>1157</td>\n",
       "      <td>1162</td>\n",
       "    </tr>\n",
       "    <tr>\n",
       "      <th>4</th>\n",
       "      <td>USA</td>\n",
       "      <td>1009.0</td>\n",
       "      <td>Blount</td>\n",
       "      <td>Alabama</td>\n",
       "      <td>US</td>\n",
       "      <td>33.982109</td>\n",
       "      <td>-86.567906</td>\n",
       "      <td>0</td>\n",
       "      <td>0</td>\n",
       "      <td>0</td>\n",
       "      <td>...</td>\n",
       "      <td>2574</td>\n",
       "      <td>2594</td>\n",
       "      <td>2648</td>\n",
       "      <td>2683</td>\n",
       "      <td>2704</td>\n",
       "      <td>2735</td>\n",
       "      <td>2754</td>\n",
       "      <td>2763</td>\n",
       "      <td>2822</td>\n",
       "      <td>2855</td>\n",
       "    </tr>\n",
       "    <tr>\n",
       "      <th>5</th>\n",
       "      <td>USA</td>\n",
       "      <td>1011.0</td>\n",
       "      <td>Bullock</td>\n",
       "      <td>Alabama</td>\n",
       "      <td>US</td>\n",
       "      <td>32.100305</td>\n",
       "      <td>-85.712655</td>\n",
       "      <td>0</td>\n",
       "      <td>0</td>\n",
       "      <td>0</td>\n",
       "      <td>...</td>\n",
       "      <td>677</td>\n",
       "      <td>678</td>\n",
       "      <td>678</td>\n",
       "      <td>680</td>\n",
       "      <td>684</td>\n",
       "      <td>688</td>\n",
       "      <td>689</td>\n",
       "      <td>690</td>\n",
       "      <td>690</td>\n",
       "      <td>691</td>\n",
       "    </tr>\n",
       "  </tbody>\n",
       "</table>\n",
       "<p>5 rows × 316 columns</p>\n",
       "</div>"
      ],
      "text/plain": [
       "  iso3    FIPS   Admin2 Province_State Country_Region        Lat      Long_  \\\n",
       "1  USA  1003.0  Baldwin        Alabama             US  30.727750 -87.722071   \n",
       "2  USA  1005.0  Barbour        Alabama             US  31.868263 -85.387129   \n",
       "3  USA  1007.0     Bibb        Alabama             US  32.996421 -87.125115   \n",
       "4  USA  1009.0   Blount        Alabama             US  33.982109 -86.567906   \n",
       "5  USA  1011.0  Bullock        Alabama             US  32.100305 -85.712655   \n",
       "\n",
       "   1/22/20  1/23/20  1/24/20  ...  11/16/20  11/17/20  11/18/20  11/19/20  \\\n",
       "1        0        0        0  ...      7696      7772      7849      7933   \n",
       "2        0        0        0  ...      1130      1134      1137      1145   \n",
       "3        0        0        0  ...       993      1004      1008      1011   \n",
       "4        0        0        0  ...      2574      2594      2648      2683   \n",
       "5        0        0        0  ...       677       678       678       680   \n",
       "\n",
       "   11/20/20  11/21/20  11/22/20  11/23/20  11/24/20  11/25/20  \n",
       "1      8038      8131      8199      8269      8376      8473  \n",
       "2      1151      1157      1160      1161      1167      1170  \n",
       "3      1024      1036      1136      1142      1157      1162  \n",
       "4      2704      2735      2754      2763      2822      2855  \n",
       "5       684       688       689       690       690       691  \n",
       "\n",
       "[5 rows x 316 columns]"
      ]
     },
     "execution_count": 52,
     "metadata": {},
     "output_type": "execute_result"
    }
   ],
   "source": [
    "df.head()"
   ]
  },
  {
   "cell_type": "markdown",
   "metadata": {
    "slideshow": {
     "slide_type": "slide"
    }
   },
   "source": [
    "### `groupby( )`"
   ]
  },
  {
   "cell_type": "code",
   "execution_count": 53,
   "metadata": {
    "slideshow": {
     "slide_type": "fragment"
    }
   },
   "outputs": [
    {
     "data": {
      "text/html": [
       "<div>\n",
       "<style scoped>\n",
       "    .dataframe tbody tr th:only-of-type {\n",
       "        vertical-align: middle;\n",
       "    }\n",
       "\n",
       "    .dataframe tbody tr th {\n",
       "        vertical-align: top;\n",
       "    }\n",
       "\n",
       "    .dataframe thead th {\n",
       "        text-align: right;\n",
       "    }\n",
       "</style>\n",
       "<table border=\"1\" class=\"dataframe\">\n",
       "  <thead>\n",
       "    <tr style=\"text-align: right;\">\n",
       "      <th></th>\n",
       "      <th>1/22/20</th>\n",
       "      <th>1/23/20</th>\n",
       "      <th>1/24/20</th>\n",
       "      <th>1/25/20</th>\n",
       "      <th>1/26/20</th>\n",
       "      <th>1/27/20</th>\n",
       "      <th>1/28/20</th>\n",
       "      <th>1/29/20</th>\n",
       "      <th>1/30/20</th>\n",
       "      <th>1/31/20</th>\n",
       "      <th>...</th>\n",
       "      <th>11/16/20</th>\n",
       "      <th>11/17/20</th>\n",
       "      <th>11/18/20</th>\n",
       "      <th>11/19/20</th>\n",
       "      <th>11/20/20</th>\n",
       "      <th>11/21/20</th>\n",
       "      <th>11/22/20</th>\n",
       "      <th>11/23/20</th>\n",
       "      <th>11/24/20</th>\n",
       "      <th>11/25/20</th>\n",
       "    </tr>\n",
       "    <tr>\n",
       "      <th>Province_State</th>\n",
       "      <th></th>\n",
       "      <th></th>\n",
       "      <th></th>\n",
       "      <th></th>\n",
       "      <th></th>\n",
       "      <th></th>\n",
       "      <th></th>\n",
       "      <th></th>\n",
       "      <th></th>\n",
       "      <th></th>\n",
       "      <th></th>\n",
       "      <th></th>\n",
       "      <th></th>\n",
       "      <th></th>\n",
       "      <th></th>\n",
       "      <th></th>\n",
       "      <th></th>\n",
       "      <th></th>\n",
       "      <th></th>\n",
       "      <th></th>\n",
       "      <th></th>\n",
       "    </tr>\n",
       "  </thead>\n",
       "  <tbody>\n",
       "    <tr>\n",
       "      <th>Alabama</th>\n",
       "      <td>0</td>\n",
       "      <td>0</td>\n",
       "      <td>0</td>\n",
       "      <td>0</td>\n",
       "      <td>0</td>\n",
       "      <td>0</td>\n",
       "      <td>0</td>\n",
       "      <td>0</td>\n",
       "      <td>0</td>\n",
       "      <td>0</td>\n",
       "      <td>...</td>\n",
       "      <td>216751</td>\n",
       "      <td>218342</td>\n",
       "      <td>220957</td>\n",
       "      <td>223356</td>\n",
       "      <td>225793</td>\n",
       "      <td>228111</td>\n",
       "      <td>229889</td>\n",
       "      <td>231446</td>\n",
       "      <td>234204</td>\n",
       "      <td>236632</td>\n",
       "    </tr>\n",
       "    <tr>\n",
       "      <th>Alaska</th>\n",
       "      <td>0</td>\n",
       "      <td>0</td>\n",
       "      <td>0</td>\n",
       "      <td>0</td>\n",
       "      <td>0</td>\n",
       "      <td>0</td>\n",
       "      <td>0</td>\n",
       "      <td>0</td>\n",
       "      <td>0</td>\n",
       "      <td>0</td>\n",
       "      <td>...</td>\n",
       "      <td>24399</td>\n",
       "      <td>25041</td>\n",
       "      <td>25588</td>\n",
       "      <td>26081</td>\n",
       "      <td>26544</td>\n",
       "      <td>27224</td>\n",
       "      <td>27773</td>\n",
       "      <td>28273</td>\n",
       "      <td>28863</td>\n",
       "      <td>29543</td>\n",
       "    </tr>\n",
       "    <tr>\n",
       "      <th>American Samoa</th>\n",
       "      <td>0</td>\n",
       "      <td>0</td>\n",
       "      <td>0</td>\n",
       "      <td>0</td>\n",
       "      <td>0</td>\n",
       "      <td>0</td>\n",
       "      <td>0</td>\n",
       "      <td>0</td>\n",
       "      <td>0</td>\n",
       "      <td>0</td>\n",
       "      <td>...</td>\n",
       "      <td>0</td>\n",
       "      <td>0</td>\n",
       "      <td>0</td>\n",
       "      <td>0</td>\n",
       "      <td>0</td>\n",
       "      <td>0</td>\n",
       "      <td>0</td>\n",
       "      <td>0</td>\n",
       "      <td>0</td>\n",
       "      <td>0</td>\n",
       "    </tr>\n",
       "    <tr>\n",
       "      <th>Arizona</th>\n",
       "      <td>0</td>\n",
       "      <td>0</td>\n",
       "      <td>0</td>\n",
       "      <td>0</td>\n",
       "      <td>1</td>\n",
       "      <td>1</td>\n",
       "      <td>1</td>\n",
       "      <td>1</td>\n",
       "      <td>1</td>\n",
       "      <td>1</td>\n",
       "      <td>...</td>\n",
       "      <td>276912</td>\n",
       "      <td>279896</td>\n",
       "      <td>283102</td>\n",
       "      <td>287225</td>\n",
       "      <td>291696</td>\n",
       "      <td>295334</td>\n",
       "      <td>299665</td>\n",
       "      <td>302324</td>\n",
       "      <td>306868</td>\n",
       "      <td>310850</td>\n",
       "    </tr>\n",
       "    <tr>\n",
       "      <th>Arkansas</th>\n",
       "      <td>0</td>\n",
       "      <td>0</td>\n",
       "      <td>0</td>\n",
       "      <td>0</td>\n",
       "      <td>0</td>\n",
       "      <td>0</td>\n",
       "      <td>0</td>\n",
       "      <td>0</td>\n",
       "      <td>0</td>\n",
       "      <td>0</td>\n",
       "      <td>...</td>\n",
       "      <td>134348</td>\n",
       "      <td>135902</td>\n",
       "      <td>137617</td>\n",
       "      <td>139855</td>\n",
       "      <td>141916</td>\n",
       "      <td>143821</td>\n",
       "      <td>145173</td>\n",
       "      <td>146190</td>\n",
       "      <td>148312</td>\n",
       "      <td>150277</td>\n",
       "    </tr>\n",
       "  </tbody>\n",
       "</table>\n",
       "<p>5 rows × 309 columns</p>\n",
       "</div>"
      ],
      "text/plain": [
       "                1/22/20  1/23/20  1/24/20  1/25/20  1/26/20  1/27/20  1/28/20  \\\n",
       "Province_State                                                                  \n",
       "Alabama               0        0        0        0        0        0        0   \n",
       "Alaska                0        0        0        0        0        0        0   \n",
       "American Samoa        0        0        0        0        0        0        0   \n",
       "Arizona               0        0        0        0        1        1        1   \n",
       "Arkansas              0        0        0        0        0        0        0   \n",
       "\n",
       "                1/29/20  1/30/20  1/31/20  ...  11/16/20  11/17/20  11/18/20  \\\n",
       "Province_State                             ...                                 \n",
       "Alabama               0        0        0  ...    216751    218342    220957   \n",
       "Alaska                0        0        0  ...     24399     25041     25588   \n",
       "American Samoa        0        0        0  ...         0         0         0   \n",
       "Arizona               1        1        1  ...    276912    279896    283102   \n",
       "Arkansas              0        0        0  ...    134348    135902    137617   \n",
       "\n",
       "                11/19/20  11/20/20  11/21/20  11/22/20  11/23/20  11/24/20  \\\n",
       "Province_State                                                               \n",
       "Alabama           223356    225793    228111    229889    231446    234204   \n",
       "Alaska             26081     26544     27224     27773     28273     28863   \n",
       "American Samoa         0         0         0         0         0         0   \n",
       "Arizona           287225    291696    295334    299665    302324    306868   \n",
       "Arkansas          139855    141916    143821    145173    146190    148312   \n",
       "\n",
       "                11/25/20  \n",
       "Province_State            \n",
       "Alabama           236632  \n",
       "Alaska             29543  \n",
       "American Samoa         0  \n",
       "Arizona           310850  \n",
       "Arkansas          150277  \n",
       "\n",
       "[5 rows x 309 columns]"
      ]
     },
     "execution_count": 53,
     "metadata": {},
     "output_type": "execute_result"
    }
   ],
   "source": [
    "df_province = df.drop(columns=['iso3', 'FIPS', 'Admin2', 'Country_Region', 'Lat','Long_']).groupby(by='Province_State').sum()\n",
    "df_province.head()"
   ]
  },
  {
   "cell_type": "markdown",
   "metadata": {
    "slideshow": {
     "slide_type": "subslide"
    }
   },
   "source": [
    "### Quick assginment\n",
    "Use .grouby() on 'Admin2' with average()"
   ]
  },
  {
   "cell_type": "markdown",
   "metadata": {
    "slideshow": {
     "slide_type": "slide"
    }
   },
   "source": [
    "### `transpose( )`"
   ]
  },
  {
   "cell_type": "code",
   "execution_count": 54,
   "metadata": {
    "slideshow": {
     "slide_type": "fragment"
    }
   },
   "outputs": [
    {
     "data": {
      "text/html": [
       "<div>\n",
       "<style scoped>\n",
       "    .dataframe tbody tr th:only-of-type {\n",
       "        vertical-align: middle;\n",
       "    }\n",
       "\n",
       "    .dataframe tbody tr th {\n",
       "        vertical-align: top;\n",
       "    }\n",
       "\n",
       "    .dataframe thead th {\n",
       "        text-align: right;\n",
       "    }\n",
       "</style>\n",
       "<table border=\"1\" class=\"dataframe\">\n",
       "  <thead>\n",
       "    <tr style=\"text-align: right;\">\n",
       "      <th>Province_State</th>\n",
       "      <th>Alabama</th>\n",
       "      <th>Alaska</th>\n",
       "      <th>American Samoa</th>\n",
       "      <th>Arizona</th>\n",
       "      <th>Arkansas</th>\n",
       "      <th>California</th>\n",
       "      <th>Colorado</th>\n",
       "      <th>Connecticut</th>\n",
       "      <th>Delaware</th>\n",
       "      <th>Diamond Princess</th>\n",
       "      <th>...</th>\n",
       "      <th>Tennessee</th>\n",
       "      <th>Texas</th>\n",
       "      <th>Utah</th>\n",
       "      <th>Vermont</th>\n",
       "      <th>Virgin Islands</th>\n",
       "      <th>Virginia</th>\n",
       "      <th>Washington</th>\n",
       "      <th>West Virginia</th>\n",
       "      <th>Wisconsin</th>\n",
       "      <th>Wyoming</th>\n",
       "    </tr>\n",
       "  </thead>\n",
       "  <tbody>\n",
       "    <tr>\n",
       "      <th>1/22/20</th>\n",
       "      <td>0</td>\n",
       "      <td>0</td>\n",
       "      <td>0</td>\n",
       "      <td>0</td>\n",
       "      <td>0</td>\n",
       "      <td>0</td>\n",
       "      <td>0</td>\n",
       "      <td>0</td>\n",
       "      <td>0</td>\n",
       "      <td>0</td>\n",
       "      <td>...</td>\n",
       "      <td>0</td>\n",
       "      <td>0</td>\n",
       "      <td>0</td>\n",
       "      <td>0</td>\n",
       "      <td>0</td>\n",
       "      <td>0</td>\n",
       "      <td>1</td>\n",
       "      <td>0</td>\n",
       "      <td>0</td>\n",
       "      <td>0</td>\n",
       "    </tr>\n",
       "    <tr>\n",
       "      <th>1/23/20</th>\n",
       "      <td>0</td>\n",
       "      <td>0</td>\n",
       "      <td>0</td>\n",
       "      <td>0</td>\n",
       "      <td>0</td>\n",
       "      <td>0</td>\n",
       "      <td>0</td>\n",
       "      <td>0</td>\n",
       "      <td>0</td>\n",
       "      <td>0</td>\n",
       "      <td>...</td>\n",
       "      <td>0</td>\n",
       "      <td>0</td>\n",
       "      <td>0</td>\n",
       "      <td>0</td>\n",
       "      <td>0</td>\n",
       "      <td>0</td>\n",
       "      <td>1</td>\n",
       "      <td>0</td>\n",
       "      <td>0</td>\n",
       "      <td>0</td>\n",
       "    </tr>\n",
       "    <tr>\n",
       "      <th>1/24/20</th>\n",
       "      <td>0</td>\n",
       "      <td>0</td>\n",
       "      <td>0</td>\n",
       "      <td>0</td>\n",
       "      <td>0</td>\n",
       "      <td>0</td>\n",
       "      <td>0</td>\n",
       "      <td>0</td>\n",
       "      <td>0</td>\n",
       "      <td>0</td>\n",
       "      <td>...</td>\n",
       "      <td>0</td>\n",
       "      <td>0</td>\n",
       "      <td>0</td>\n",
       "      <td>0</td>\n",
       "      <td>0</td>\n",
       "      <td>0</td>\n",
       "      <td>1</td>\n",
       "      <td>0</td>\n",
       "      <td>0</td>\n",
       "      <td>0</td>\n",
       "    </tr>\n",
       "    <tr>\n",
       "      <th>1/25/20</th>\n",
       "      <td>0</td>\n",
       "      <td>0</td>\n",
       "      <td>0</td>\n",
       "      <td>0</td>\n",
       "      <td>0</td>\n",
       "      <td>0</td>\n",
       "      <td>0</td>\n",
       "      <td>0</td>\n",
       "      <td>0</td>\n",
       "      <td>0</td>\n",
       "      <td>...</td>\n",
       "      <td>0</td>\n",
       "      <td>0</td>\n",
       "      <td>0</td>\n",
       "      <td>0</td>\n",
       "      <td>0</td>\n",
       "      <td>0</td>\n",
       "      <td>1</td>\n",
       "      <td>0</td>\n",
       "      <td>0</td>\n",
       "      <td>0</td>\n",
       "    </tr>\n",
       "    <tr>\n",
       "      <th>1/26/20</th>\n",
       "      <td>0</td>\n",
       "      <td>0</td>\n",
       "      <td>0</td>\n",
       "      <td>1</td>\n",
       "      <td>0</td>\n",
       "      <td>2</td>\n",
       "      <td>0</td>\n",
       "      <td>0</td>\n",
       "      <td>0</td>\n",
       "      <td>0</td>\n",
       "      <td>...</td>\n",
       "      <td>0</td>\n",
       "      <td>0</td>\n",
       "      <td>0</td>\n",
       "      <td>0</td>\n",
       "      <td>0</td>\n",
       "      <td>0</td>\n",
       "      <td>1</td>\n",
       "      <td>0</td>\n",
       "      <td>0</td>\n",
       "      <td>0</td>\n",
       "    </tr>\n",
       "    <tr>\n",
       "      <th>...</th>\n",
       "      <td>...</td>\n",
       "      <td>...</td>\n",
       "      <td>...</td>\n",
       "      <td>...</td>\n",
       "      <td>...</td>\n",
       "      <td>...</td>\n",
       "      <td>...</td>\n",
       "      <td>...</td>\n",
       "      <td>...</td>\n",
       "      <td>...</td>\n",
       "      <td>...</td>\n",
       "      <td>...</td>\n",
       "      <td>...</td>\n",
       "      <td>...</td>\n",
       "      <td>...</td>\n",
       "      <td>...</td>\n",
       "      <td>...</td>\n",
       "      <td>...</td>\n",
       "      <td>...</td>\n",
       "      <td>...</td>\n",
       "      <td>...</td>\n",
       "    </tr>\n",
       "    <tr>\n",
       "      <th>11/21/20</th>\n",
       "      <td>228111</td>\n",
       "      <td>27224</td>\n",
       "      <td>0</td>\n",
       "      <td>295334</td>\n",
       "      <td>143821</td>\n",
       "      <td>1105435</td>\n",
       "      <td>194679</td>\n",
       "      <td>101469</td>\n",
       "      <td>31321</td>\n",
       "      <td>49</td>\n",
       "      <td>...</td>\n",
       "      <td>335887</td>\n",
       "      <td>1144424</td>\n",
       "      <td>173979</td>\n",
       "      <td>3546</td>\n",
       "      <td>1491</td>\n",
       "      <td>215679</td>\n",
       "      <td>141260</td>\n",
       "      <td>39598</td>\n",
       "      <td>372219</td>\n",
       "      <td>27410</td>\n",
       "    </tr>\n",
       "    <tr>\n",
       "      <th>11/22/20</th>\n",
       "      <td>229889</td>\n",
       "      <td>27773</td>\n",
       "      <td>0</td>\n",
       "      <td>299665</td>\n",
       "      <td>145173</td>\n",
       "      <td>1114524</td>\n",
       "      <td>198600</td>\n",
       "      <td>101469</td>\n",
       "      <td>31808</td>\n",
       "      <td>49</td>\n",
       "      <td>...</td>\n",
       "      <td>340476</td>\n",
       "      <td>1153529</td>\n",
       "      <td>177176</td>\n",
       "      <td>3629</td>\n",
       "      <td>1504</td>\n",
       "      <td>217796</td>\n",
       "      <td>141260</td>\n",
       "      <td>40478</td>\n",
       "      <td>376238</td>\n",
       "      <td>28169</td>\n",
       "    </tr>\n",
       "    <tr>\n",
       "      <th>11/23/20</th>\n",
       "      <td>231446</td>\n",
       "      <td>28273</td>\n",
       "      <td>0</td>\n",
       "      <td>302324</td>\n",
       "      <td>146190</td>\n",
       "      <td>1128219</td>\n",
       "      <td>202289</td>\n",
       "      <td>106740</td>\n",
       "      <td>32211</td>\n",
       "      <td>49</td>\n",
       "      <td>...</td>\n",
       "      <td>344550</td>\n",
       "      <td>1162052</td>\n",
       "      <td>179420</td>\n",
       "      <td>3714</td>\n",
       "      <td>1507</td>\n",
       "      <td>221038</td>\n",
       "      <td>147537</td>\n",
       "      <td>41114</td>\n",
       "      <td>379693</td>\n",
       "      <td>29431</td>\n",
       "    </tr>\n",
       "    <tr>\n",
       "      <th>11/24/20</th>\n",
       "      <td>234204</td>\n",
       "      <td>28863</td>\n",
       "      <td>0</td>\n",
       "      <td>306868</td>\n",
       "      <td>148312</td>\n",
       "      <td>1145209</td>\n",
       "      <td>206439</td>\n",
       "      <td>107280</td>\n",
       "      <td>32664</td>\n",
       "      <td>49</td>\n",
       "      <td>...</td>\n",
       "      <td>345916</td>\n",
       "      <td>1181533</td>\n",
       "      <td>182121</td>\n",
       "      <td>3762</td>\n",
       "      <td>1521</td>\n",
       "      <td>223582</td>\n",
       "      <td>151019</td>\n",
       "      <td>42083</td>\n",
       "      <td>386441</td>\n",
       "      <td>29959</td>\n",
       "    </tr>\n",
       "    <tr>\n",
       "      <th>11/25/20</th>\n",
       "      <td>236632</td>\n",
       "      <td>29543</td>\n",
       "      <td>0</td>\n",
       "      <td>310850</td>\n",
       "      <td>150277</td>\n",
       "      <td>1160940</td>\n",
       "      <td>210630</td>\n",
       "      <td>109152</td>\n",
       "      <td>32995</td>\n",
       "      <td>49</td>\n",
       "      <td>...</td>\n",
       "      <td>347972</td>\n",
       "      <td>1196711</td>\n",
       "      <td>183902</td>\n",
       "      <td>3827</td>\n",
       "      <td>1521</td>\n",
       "      <td>226300</td>\n",
       "      <td>153906</td>\n",
       "      <td>43050</td>\n",
       "      <td>392438</td>\n",
       "      <td>30761</td>\n",
       "    </tr>\n",
       "  </tbody>\n",
       "</table>\n",
       "<p>309 rows × 58 columns</p>\n",
       "</div>"
      ],
      "text/plain": [
       "Province_State  Alabama  Alaska  American Samoa  Arizona  Arkansas  \\\n",
       "1/22/20               0       0               0        0         0   \n",
       "1/23/20               0       0               0        0         0   \n",
       "1/24/20               0       0               0        0         0   \n",
       "1/25/20               0       0               0        0         0   \n",
       "1/26/20               0       0               0        1         0   \n",
       "...                 ...     ...             ...      ...       ...   \n",
       "11/21/20         228111   27224               0   295334    143821   \n",
       "11/22/20         229889   27773               0   299665    145173   \n",
       "11/23/20         231446   28273               0   302324    146190   \n",
       "11/24/20         234204   28863               0   306868    148312   \n",
       "11/25/20         236632   29543               0   310850    150277   \n",
       "\n",
       "Province_State  California  Colorado  Connecticut  Delaware  Diamond Princess  \\\n",
       "1/22/20                  0         0            0         0                 0   \n",
       "1/23/20                  0         0            0         0                 0   \n",
       "1/24/20                  0         0            0         0                 0   \n",
       "1/25/20                  0         0            0         0                 0   \n",
       "1/26/20                  2         0            0         0                 0   \n",
       "...                    ...       ...          ...       ...               ...   \n",
       "11/21/20           1105435    194679       101469     31321                49   \n",
       "11/22/20           1114524    198600       101469     31808                49   \n",
       "11/23/20           1128219    202289       106740     32211                49   \n",
       "11/24/20           1145209    206439       107280     32664                49   \n",
       "11/25/20           1160940    210630       109152     32995                49   \n",
       "\n",
       "Province_State  ...  Tennessee    Texas    Utah  Vermont  Virgin Islands  \\\n",
       "1/22/20         ...          0        0       0        0               0   \n",
       "1/23/20         ...          0        0       0        0               0   \n",
       "1/24/20         ...          0        0       0        0               0   \n",
       "1/25/20         ...          0        0       0        0               0   \n",
       "1/26/20         ...          0        0       0        0               0   \n",
       "...             ...        ...      ...     ...      ...             ...   \n",
       "11/21/20        ...     335887  1144424  173979     3546            1491   \n",
       "11/22/20        ...     340476  1153529  177176     3629            1504   \n",
       "11/23/20        ...     344550  1162052  179420     3714            1507   \n",
       "11/24/20        ...     345916  1181533  182121     3762            1521   \n",
       "11/25/20        ...     347972  1196711  183902     3827            1521   \n",
       "\n",
       "Province_State  Virginia  Washington  West Virginia  Wisconsin  Wyoming  \n",
       "1/22/20                0           1              0          0        0  \n",
       "1/23/20                0           1              0          0        0  \n",
       "1/24/20                0           1              0          0        0  \n",
       "1/25/20                0           1              0          0        0  \n",
       "1/26/20                0           1              0          0        0  \n",
       "...                  ...         ...            ...        ...      ...  \n",
       "11/21/20          215679      141260          39598     372219    27410  \n",
       "11/22/20          217796      141260          40478     376238    28169  \n",
       "11/23/20          221038      147537          41114     379693    29431  \n",
       "11/24/20          223582      151019          42083     386441    29959  \n",
       "11/25/20          226300      153906          43050     392438    30761  \n",
       "\n",
       "[309 rows x 58 columns]"
      ]
     },
     "execution_count": 54,
     "metadata": {},
     "output_type": "execute_result"
    }
   ],
   "source": [
    "df_transposed = df_province.transpose()\n",
    "df_transposed"
   ]
  },
  {
   "cell_type": "code",
   "execution_count": 55,
   "metadata": {
    "slideshow": {
     "slide_type": "subslide"
    }
   },
   "outputs": [
    {
     "data": {
      "text/plain": [
       "Index(['Alabama', 'Alaska', 'American Samoa', 'Arizona', 'Arkansas',\n",
       "       'California', 'Colorado', 'Connecticut', 'Delaware', 'Diamond Princess',\n",
       "       'District of Columbia', 'Florida', 'Georgia', 'Grand Princess', 'Guam',\n",
       "       'Hawaii', 'Idaho', 'Illinois', 'Indiana', 'Iowa', 'Kansas', 'Kentucky',\n",
       "       'Louisiana', 'Maine', 'Maryland', 'Massachusetts', 'Michigan',\n",
       "       'Minnesota', 'Mississippi', 'Missouri', 'Montana', 'Nebraska', 'Nevada',\n",
       "       'New Hampshire', 'New Jersey', 'New Mexico', 'New York',\n",
       "       'North Carolina', 'North Dakota', 'Northern Mariana Islands', 'Ohio',\n",
       "       'Oklahoma', 'Oregon', 'Pennsylvania', 'Puerto Rico', 'Rhode Island',\n",
       "       'South Carolina', 'South Dakota', 'Tennessee', 'Texas', 'Utah',\n",
       "       'Vermont', 'Virgin Islands', 'Virginia', 'Washington', 'West Virginia',\n",
       "       'Wisconsin', 'Wyoming'],\n",
       "      dtype='object', name='Province_State')"
      ]
     },
     "execution_count": 55,
     "metadata": {},
     "output_type": "execute_result"
    }
   ],
   "source": [
    "df_transposed.columns"
   ]
  },
  {
   "cell_type": "code",
   "execution_count": 56,
   "metadata": {
    "slideshow": {
     "slide_type": "fragment"
    }
   },
   "outputs": [
    {
     "data": {
      "text/plain": [
       "Index(['1/22/20', '1/23/20', '1/24/20', '1/25/20', '1/26/20', '1/27/20',\n",
       "       '1/28/20', '1/29/20', '1/30/20', '1/31/20',\n",
       "       ...\n",
       "       '11/16/20', '11/17/20', '11/18/20', '11/19/20', '11/20/20', '11/21/20',\n",
       "       '11/22/20', '11/23/20', '11/24/20', '11/25/20'],\n",
       "      dtype='object', length=309)"
      ]
     },
     "execution_count": 56,
     "metadata": {},
     "output_type": "execute_result"
    }
   ],
   "source": [
    "df_transposed.index"
   ]
  },
  {
   "cell_type": "code",
   "execution_count": 57,
   "metadata": {
    "slideshow": {
     "slide_type": "slide"
    }
   },
   "outputs": [],
   "source": [
    "import matplotlib as plt"
   ]
  },
  {
   "cell_type": "code",
   "execution_count": 58,
   "metadata": {
    "slideshow": {
     "slide_type": "fragment"
    }
   },
   "outputs": [],
   "source": [
    "import seaborn as sns\n",
    "sns.set_style('darkgrid')"
   ]
  },
  {
   "cell_type": "code",
   "execution_count": 59,
   "metadata": {},
   "outputs": [
    {
     "data": {
      "text/plain": [
       "<AxesSubplot:ylabel='Alabama'>"
      ]
     },
     "execution_count": 59,
     "metadata": {},
     "output_type": "execute_result"
    },
    {
     "data": {
      "image/png": "[encoded data removed]",
      "text/plain": [
       "<Figure size 432x288 with 1 Axes>"
      ]
     },
     "metadata": {
      "needs_background": "light"
     },
     "output_type": "display_data"
    }
   ],
   "source": [
    "sns.lineplot(data=df_province.loc['Alabama'])"
   ]
  },
  {
   "cell_type": "code",
   "execution_count": null,
   "metadata": {},
   "outputs": [],
   "source": []
  }
 ],
 "metadata": {
  "kernelspec": {
   "display_name": "Python 3",
   "language": "python",
   "name": "python3"
  },
  "language_info": {
   "codemirror_mode": {
    "name": "ipython",
    "version": 3
   },
   "file_extension": ".py",
   "mimetype": "text/x-python",
   "name": "python",
   "nbconvert_exporter": "python",
   "pygments_lexer": "ipython3",
   "version": "3.7.8"
  }
 },
 "nbformat": 4,
 "nbformat_minor": 4
}
